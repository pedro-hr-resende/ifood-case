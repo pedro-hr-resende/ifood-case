{
 "cells": [
  {
   "cell_type": "markdown",
   "metadata": {
    "application/vnd.databricks.v1+cell": {
     "cellMetadata": {
      "byteLimit": 2048000,
      "rowLimit": 10000
     },
     "inputWidgets": {},
     "nuid": "c7cff29e-bf9d-45ad-bb7d-2af92123fe7a",
     "showTitle": false,
     "tableResultSettingsMap": {},
     "title": ""
    }
   },
   "source": [
    "# Ingestão dos dados para a camada bronze"
   ]
  },
  {
   "cell_type": "markdown",
   "metadata": {
    "application/vnd.databricks.v1+cell": {
     "cellMetadata": {
      "byteLimit": 2048000,
      "rowLimit": 10000
     },
     "inputWidgets": {},
     "nuid": "77c37282-3900-44cd-b042-261bb2116a98",
     "showTitle": false,
     "tableResultSettingsMap": {},
     "title": ""
    }
   },
   "source": [
    "A camada bronze faz parte da arquitetura de data lakehouse em múltiplas camadas (bronze, prata, ouro), e tem como principal objetivo armazenar os dados brutos em formato otimizado para processamento e leitura, preservando a integridade do que foi recebido na landing zone.\n",
    "\n",
    "Enquanto a landing zone serve como um repositório temporário de arquivos exatamente como foram extraídos da fonte (no caso, arquivos .parquet disponibilizados pela agência de Nova York), a camada bronze representa o primeiro estágio estruturado e rastreável do pipeline de dados."
   ]
  },
  {
   "cell_type": "markdown",
   "metadata": {
    "application/vnd.databricks.v1+cell": {
     "cellMetadata": {
      "byteLimit": 2048000,
      "rowLimit": 10000
     },
     "inputWidgets": {},
     "nuid": "d06d9de9-051b-4605-bfa7-28d3b8e8b836",
     "showTitle": false,
     "tableResultSettingsMap": {},
     "title": ""
    }
   },
   "source": [
    "## Importação das bibliotecas necessárias"
   ]
  },
  {
   "cell_type": "code",
   "execution_count": 0,
   "metadata": {
    "application/vnd.databricks.v1+cell": {
     "cellMetadata": {
      "byteLimit": 2048000,
      "rowLimit": 10000
     },
     "inputWidgets": {},
     "nuid": "95413e7b-b8c6-40f5-a11b-0e11a2d9a931",
     "showTitle": false,
     "tableResultSettingsMap": {},
     "title": ""
    }
   },
   "outputs": [],
   "source": [
    "from pyspark.sql.functions import col"
   ]
  },
  {
   "cell_type": "markdown",
   "metadata": {
    "application/vnd.databricks.v1+cell": {
     "cellMetadata": {
      "byteLimit": 2048000,
      "rowLimit": 10000
     },
     "inputWidgets": {},
     "nuid": "b1a701da-1e44-4062-8a22-c018e2187745",
     "showTitle": false,
     "tableResultSettingsMap": {},
     "title": ""
    }
   },
   "source": [
    "## Parâmetros para a leitura dos arquivos"
   ]
  },
  {
   "cell_type": "markdown",
   "metadata": {
    "application/vnd.databricks.v1+cell": {
     "cellMetadata": {
      "byteLimit": 2048000,
      "rowLimit": 10000
     },
     "inputWidgets": {},
     "nuid": "6f4b781e-7ba1-4e04-86cb-9a41ec01b733",
     "showTitle": false,
     "tableResultSettingsMap": {},
     "title": ""
    }
   },
   "source": [
    "Não utilizaremos um schema definido na leitura, mas o código abaixo mostra como identificar o schema de um arquivo. Isso é importante porque podem existir diferenças nos tipos de dados entre os arquivos. Quando isso acontece, é necessário fazer o cast das colunas para que o Spark consiga unificá-las em um único DataFrame sem erros."
   ]
  },
  {
   "cell_type": "code",
   "execution_count": 0,
   "metadata": {
    "application/vnd.databricks.v1+cell": {
     "cellMetadata": {
      "byteLimit": 2048000,
      "rowLimit": 10000
     },
     "inputWidgets": {},
     "nuid": "1ce2e227-b6ae-4d45-a0e1-9382a1ff6974",
     "showTitle": false,
     "tableResultSettingsMap": {},
     "title": ""
    }
   },
   "outputs": [
    {
     "output_type": "stream",
     "name": "stdout",
     "output_type": "stream",
     "text": [
      "root\n |-- VendorID: long (nullable = true)\n |-- tpep_pickup_datetime: timestamp (nullable = true)\n |-- tpep_dropoff_datetime: timestamp (nullable = true)\n |-- passenger_count: double (nullable = true)\n |-- trip_distance: double (nullable = true)\n |-- RatecodeID: double (nullable = true)\n |-- store_and_fwd_flag: string (nullable = true)\n |-- PULocationID: long (nullable = true)\n |-- DOLocationID: long (nullable = true)\n |-- payment_type: long (nullable = true)\n |-- fare_amount: double (nullable = true)\n |-- extra: double (nullable = true)\n |-- mta_tax: double (nullable = true)\n |-- tip_amount: double (nullable = true)\n |-- tolls_amount: double (nullable = true)\n |-- improvement_surcharge: double (nullable = true)\n |-- total_amount: double (nullable = true)\n |-- congestion_surcharge: double (nullable = true)\n |-- airport_fee: double (nullable = true)\n\n"
     ]
    }
   ],
   "source": [
    "df = spark.read.parquet('dbfs:/FileStore/tables/landing_zone/yellow_taxi_data/yellow_tripdata_2023_01.parquet')\n",
    "df.printSchema()"
   ]
  },
  {
   "cell_type": "markdown",
   "metadata": {
    "application/vnd.databricks.v1+cell": {
     "cellMetadata": {
      "byteLimit": 2048000,
      "rowLimit": 10000
     },
     "inputWidgets": {},
     "nuid": "c7d2d0fb-1c97-45cd-89bf-c28816b94b8a",
     "showTitle": false,
     "tableResultSettingsMap": {},
     "title": ""
    }
   },
   "source": [
    "## Funções para processar cada tipo de táxi"
   ]
  },
  {
   "cell_type": "markdown",
   "metadata": {
    "application/vnd.databricks.v1+cell": {
     "cellMetadata": {
      "byteLimit": 2048000,
      "rowLimit": 10000
     },
     "inputWidgets": {},
     "nuid": "28826e22-eaf0-4ef2-ae1f-736498264fdb",
     "showTitle": false,
     "tableResultSettingsMap": {},
     "title": ""
    }
   },
   "source": [
    "**Observação:** O Spark não conseguiu unificar os esquemas diferentes entre os arquivos .parquet. Por exemplo, nos dados do yellow taxi, a coluna passenger_count aparece com o tipo INT64 em um arquivo e DoubleType em outro. Esse tipo de divergência causa erro, pois o Spark não consegue fundir automaticamente tipos incompatíveis ao realizar um .read.parquet() em múltiplos arquivos.\n",
    "\n",
    "Para contornar esse problema, realizei manualmente o cast das colunas exigidas no enunciado para garantir a padronização dos tipos durante a leitura. Com isso, foi possível unificar os dados em um único DataFrame ainda na camada bronze, preservando os dados brutos e assegurando a consistência do schema. Não criei uma única função e não usei nenhum artifício para diminuir o código, pois o objetivo é tornar clara as modificações realizadas."
   ]
  },
  {
   "cell_type": "markdown",
   "metadata": {
    "application/vnd.databricks.v1+cell": {
     "cellMetadata": {
      "byteLimit": 2048000,
      "rowLimit": 10000
     },
     "inputWidgets": {},
     "nuid": "3eff36ff-d255-4955-9173-521a80f8b5f9",
     "showTitle": false,
     "tableResultSettingsMap": {},
     "title": ""
    }
   },
   "source": [
    "#### Yellow taxi data"
   ]
  },
  {
   "cell_type": "code",
   "execution_count": 0,
   "metadata": {
    "application/vnd.databricks.v1+cell": {
     "cellMetadata": {
      "byteLimit": 2048000,
      "rowLimit": 10000
     },
     "inputWidgets": {},
     "nuid": "6b125aeb-dbc4-45cc-8632-796a6bcd9c68",
     "showTitle": false,
     "tableResultSettingsMap": {},
     "title": ""
    }
   },
   "outputs": [],
   "source": [
    "def processar_yellow_taxi(yellow_path: str):\n",
    "   \n",
    "    ano = '2023'\n",
    "    meses = ['01', '02', '03', '04', '05']\n",
    "\n",
    "    dfs = []\n",
    "\n",
    "    for mes in meses:\n",
    "\n",
    "        arquivo = f\"{yellow_path}yellow_tripdata_{ano}_{mes}.parquet\"\n",
    "        print(f\"Lendo arquivo: {arquivo}\")\n",
    "\n",
    "        df = spark.read.parquet(arquivo) \\\n",
    "            .withColumn(\"VendorID\", col(\"VendorID\").cast(\"long\")) \\\n",
    "            .withColumn(\"passenger_count\", col(\"passenger_count\").cast(\"long\")) \\\n",
    "            .withColumn(\"total_amount\", col(\"total_amount\").cast(\"double\")) \\\n",
    "            .withColumn(\"tpep_pickup_datetime\", col(\"tpep_pickup_datetime\").cast(\"timestamp\")) \\\n",
    "            .withColumn(\"tpep_dropoff_datetime\", col(\"tpep_dropoff_datetime\").cast(\"timestamp\"))\n",
    "        dfs.append(df)\n",
    "\n",
    "    if not dfs:\n",
    "        raise Exception(\"Nenhum arquivo foi lido com sucesso.\")\n",
    "\n",
    "    df_unificado = dfs[0]\n",
    "    \n",
    "    for df in dfs[1:]:\n",
    "        df_unificado = df_unificado.unionByName(df, allowMissingColumns=True)\n",
    "\n",
    "    return df_unificado"
   ]
  },
  {
   "cell_type": "code",
   "execution_count": 0,
   "metadata": {
    "application/vnd.databricks.v1+cell": {
     "cellMetadata": {
      "byteLimit": 2048000,
      "rowLimit": 10000
     },
     "inputWidgets": {},
     "nuid": "7d292ba1-ee00-4bb2-aed0-2d68ec39082d",
     "showTitle": false,
     "tableResultSettingsMap": {},
     "title": ""
    }
   },
   "outputs": [
    {
     "output_type": "stream",
     "name": "stdout",
     "output_type": "stream",
     "text": [
      "Lendo arquivo: dbfs:/FileStore/tables/landing_zone/yellow_taxi_data/yellow_tripdata_2023_01.parquet\nLendo arquivo: dbfs:/FileStore/tables/landing_zone/yellow_taxi_data/yellow_tripdata_2023_02.parquet\nLendo arquivo: dbfs:/FileStore/tables/landing_zone/yellow_taxi_data/yellow_tripdata_2023_03.parquet\nLendo arquivo: dbfs:/FileStore/tables/landing_zone/yellow_taxi_data/yellow_tripdata_2023_04.parquet\nLendo arquivo: dbfs:/FileStore/tables/landing_zone/yellow_taxi_data/yellow_tripdata_2023_05.parquet\n"
     ]
    },
    {
     "output_type": "display_data",
     "data": {
      "text/html": [
       "<style scoped>\n",
       "  .table-result-container {\n",
       "    max-height: 300px;\n",
       "    overflow: auto;\n",
       "  }\n",
       "  table, th, td {\n",
       "    border: 1px solid black;\n",
       "    border-collapse: collapse;\n",
       "  }\n",
       "  th, td {\n",
       "    padding: 5px;\n",
       "  }\n",
       "  th {\n",
       "    text-align: left;\n",
       "  }\n",
       "</style><div class='table-result-container'><table class='table-result'><thead style='background-color: white'><tr><th>VendorID</th><th>tpep_pickup_datetime</th><th>tpep_dropoff_datetime</th><th>passenger_count</th><th>trip_distance</th><th>RatecodeID</th><th>store_and_fwd_flag</th><th>PULocationID</th><th>DOLocationID</th><th>payment_type</th><th>fare_amount</th><th>extra</th><th>mta_tax</th><th>tip_amount</th><th>tolls_amount</th><th>improvement_surcharge</th><th>total_amount</th><th>congestion_surcharge</th><th>airport_fee</th></tr></thead><tbody><tr><td>2</td><td>2023-01-01T00:32:10.000+0000</td><td>2023-01-01T00:40:36.000+0000</td><td>1</td><td>0.97</td><td>1.0</td><td>N</td><td>161</td><td>141</td><td>2</td><td>9.3</td><td>1.0</td><td>0.5</td><td>0.0</td><td>0.0</td><td>1.0</td><td>14.3</td><td>2.5</td><td>0.0</td></tr><tr><td>2</td><td>2023-01-01T00:55:08.000+0000</td><td>2023-01-01T01:01:27.000+0000</td><td>1</td><td>1.1</td><td>1.0</td><td>N</td><td>43</td><td>237</td><td>1</td><td>7.9</td><td>1.0</td><td>0.5</td><td>4.0</td><td>0.0</td><td>1.0</td><td>16.9</td><td>2.5</td><td>0.0</td></tr><tr><td>2</td><td>2023-01-01T00:25:04.000+0000</td><td>2023-01-01T00:37:49.000+0000</td><td>1</td><td>2.51</td><td>1.0</td><td>N</td><td>48</td><td>238</td><td>1</td><td>14.9</td><td>1.0</td><td>0.5</td><td>15.0</td><td>0.0</td><td>1.0</td><td>34.9</td><td>2.5</td><td>0.0</td></tr><tr><td>1</td><td>2023-01-01T00:03:48.000+0000</td><td>2023-01-01T00:13:25.000+0000</td><td>0</td><td>1.9</td><td>1.0</td><td>N</td><td>138</td><td>7</td><td>1</td><td>12.1</td><td>7.25</td><td>0.5</td><td>0.0</td><td>0.0</td><td>1.0</td><td>20.85</td><td>0.0</td><td>1.25</td></tr><tr><td>2</td><td>2023-01-01T00:10:29.000+0000</td><td>2023-01-01T00:21:19.000+0000</td><td>1</td><td>1.43</td><td>1.0</td><td>N</td><td>107</td><td>79</td><td>1</td><td>11.4</td><td>1.0</td><td>0.5</td><td>3.28</td><td>0.0</td><td>1.0</td><td>19.68</td><td>2.5</td><td>0.0</td></tr><tr><td>2</td><td>2023-01-01T00:50:34.000+0000</td><td>2023-01-01T01:02:52.000+0000</td><td>1</td><td>1.84</td><td>1.0</td><td>N</td><td>161</td><td>137</td><td>1</td><td>12.8</td><td>1.0</td><td>0.5</td><td>10.0</td><td>0.0</td><td>1.0</td><td>27.8</td><td>2.5</td><td>0.0</td></tr><tr><td>2</td><td>2023-01-01T00:09:22.000+0000</td><td>2023-01-01T00:19:49.000+0000</td><td>1</td><td>1.66</td><td>1.0</td><td>N</td><td>239</td><td>143</td><td>1</td><td>12.1</td><td>1.0</td><td>0.5</td><td>3.42</td><td>0.0</td><td>1.0</td><td>20.52</td><td>2.5</td><td>0.0</td></tr><tr><td>2</td><td>2023-01-01T00:27:12.000+0000</td><td>2023-01-01T00:49:56.000+0000</td><td>1</td><td>11.7</td><td>1.0</td><td>N</td><td>142</td><td>200</td><td>1</td><td>45.7</td><td>1.0</td><td>0.5</td><td>10.74</td><td>3.0</td><td>1.0</td><td>64.44</td><td>2.5</td><td>0.0</td></tr><tr><td>2</td><td>2023-01-01T00:21:44.000+0000</td><td>2023-01-01T00:36:40.000+0000</td><td>1</td><td>2.95</td><td>1.0</td><td>N</td><td>164</td><td>236</td><td>1</td><td>17.7</td><td>1.0</td><td>0.5</td><td>5.68</td><td>0.0</td><td>1.0</td><td>28.38</td><td>2.5</td><td>0.0</td></tr><tr><td>2</td><td>2023-01-01T00:39:42.000+0000</td><td>2023-01-01T00:50:36.000+0000</td><td>1</td><td>3.01</td><td>1.0</td><td>N</td><td>141</td><td>107</td><td>2</td><td>14.9</td><td>1.0</td><td>0.5</td><td>0.0</td><td>0.0</td><td>1.0</td><td>19.9</td><td>2.5</td><td>0.0</td></tr></tbody></table></div>"
      ]
     },
     "metadata": {
      "application/vnd.databricks.v1+output": {
       "addedWidgets": {},
       "aggData": [],
       "aggError": "",
       "aggOverflow": false,
       "aggSchema": [],
       "aggSeriesLimitReached": false,
       "aggType": "",
       "arguments": {},
       "columnCustomDisplayInfos": {},
       "data": [
        [
         2,
         "2023-01-01T00:32:10.000+0000",
         "2023-01-01T00:40:36.000+0000",
         1,
         0.97,
         1.0,
         "N",
         161,
         141,
         2,
         9.3,
         1.0,
         0.5,
         0.0,
         0.0,
         1.0,
         14.3,
         2.5,
         0.0
        ],
        [
         2,
         "2023-01-01T00:55:08.000+0000",
         "2023-01-01T01:01:27.000+0000",
         1,
         1.1,
         1.0,
         "N",
         43,
         237,
         1,
         7.9,
         1.0,
         0.5,
         4.0,
         0.0,
         1.0,
         16.9,
         2.5,
         0.0
        ],
        [
         2,
         "2023-01-01T00:25:04.000+0000",
         "2023-01-01T00:37:49.000+0000",
         1,
         2.51,
         1.0,
         "N",
         48,
         238,
         1,
         14.9,
         1.0,
         0.5,
         15.0,
         0.0,
         1.0,
         34.9,
         2.5,
         0.0
        ],
        [
         1,
         "2023-01-01T00:03:48.000+0000",
         "2023-01-01T00:13:25.000+0000",
         0,
         1.9,
         1.0,
         "N",
         138,
         7,
         1,
         12.1,
         7.25,
         0.5,
         0.0,
         0.0,
         1.0,
         20.85,
         0.0,
         1.25
        ],
        [
         2,
         "2023-01-01T00:10:29.000+0000",
         "2023-01-01T00:21:19.000+0000",
         1,
         1.43,
         1.0,
         "N",
         107,
         79,
         1,
         11.4,
         1.0,
         0.5,
         3.28,
         0.0,
         1.0,
         19.68,
         2.5,
         0.0
        ],
        [
         2,
         "2023-01-01T00:50:34.000+0000",
         "2023-01-01T01:02:52.000+0000",
         1,
         1.84,
         1.0,
         "N",
         161,
         137,
         1,
         12.8,
         1.0,
         0.5,
         10.0,
         0.0,
         1.0,
         27.8,
         2.5,
         0.0
        ],
        [
         2,
         "2023-01-01T00:09:22.000+0000",
         "2023-01-01T00:19:49.000+0000",
         1,
         1.66,
         1.0,
         "N",
         239,
         143,
         1,
         12.1,
         1.0,
         0.5,
         3.42,
         0.0,
         1.0,
         20.52,
         2.5,
         0.0
        ],
        [
         2,
         "2023-01-01T00:27:12.000+0000",
         "2023-01-01T00:49:56.000+0000",
         1,
         11.7,
         1.0,
         "N",
         142,
         200,
         1,
         45.7,
         1.0,
         0.5,
         10.74,
         3.0,
         1.0,
         64.44,
         2.5,
         0.0
        ],
        [
         2,
         "2023-01-01T00:21:44.000+0000",
         "2023-01-01T00:36:40.000+0000",
         1,
         2.95,
         1.0,
         "N",
         164,
         236,
         1,
         17.7,
         1.0,
         0.5,
         5.68,
         0.0,
         1.0,
         28.38,
         2.5,
         0.0
        ],
        [
         2,
         "2023-01-01T00:39:42.000+0000",
         "2023-01-01T00:50:36.000+0000",
         1,
         3.01,
         1.0,
         "N",
         141,
         107,
         2,
         14.9,
         1.0,
         0.5,
         0.0,
         0.0,
         1.0,
         19.9,
         2.5,
         0.0
        ]
       ],
       "datasetInfos": [],
       "dbfsResultPath": null,
       "isJsonSchema": true,
       "metadata": {},
       "overflow": false,
       "plotOptions": {
        "customPlotOptions": {},
        "displayType": "table",
        "pivotAggregation": null,
        "pivotColumns": null,
        "xColumns": null,
        "yColumns": null
       },
       "removedWidgets": [],
       "schema": [
        {
         "metadata": "{}",
         "name": "VendorID",
         "type": "\"long\""
        },
        {
         "metadata": "{}",
         "name": "tpep_pickup_datetime",
         "type": "\"timestamp\""
        },
        {
         "metadata": "{}",
         "name": "tpep_dropoff_datetime",
         "type": "\"timestamp\""
        },
        {
         "metadata": "{}",
         "name": "passenger_count",
         "type": "\"long\""
        },
        {
         "metadata": "{}",
         "name": "trip_distance",
         "type": "\"double\""
        },
        {
         "metadata": "{}",
         "name": "RatecodeID",
         "type": "\"double\""
        },
        {
         "metadata": "{}",
         "name": "store_and_fwd_flag",
         "type": "\"string\""
        },
        {
         "metadata": "{}",
         "name": "PULocationID",
         "type": "\"long\""
        },
        {
         "metadata": "{}",
         "name": "DOLocationID",
         "type": "\"long\""
        },
        {
         "metadata": "{}",
         "name": "payment_type",
         "type": "\"long\""
        },
        {
         "metadata": "{}",
         "name": "fare_amount",
         "type": "\"double\""
        },
        {
         "metadata": "{}",
         "name": "extra",
         "type": "\"double\""
        },
        {
         "metadata": "{}",
         "name": "mta_tax",
         "type": "\"double\""
        },
        {
         "metadata": "{}",
         "name": "tip_amount",
         "type": "\"double\""
        },
        {
         "metadata": "{}",
         "name": "tolls_amount",
         "type": "\"double\""
        },
        {
         "metadata": "{}",
         "name": "improvement_surcharge",
         "type": "\"double\""
        },
        {
         "metadata": "{}",
         "name": "total_amount",
         "type": "\"double\""
        },
        {
         "metadata": "{}",
         "name": "congestion_surcharge",
         "type": "\"double\""
        },
        {
         "metadata": "{}",
         "name": "airport_fee",
         "type": "\"double\""
        }
       ],
       "type": "table"
      }
     },
     "output_type": "display_data"
    }
   ],
   "source": [
    "path = \"dbfs:/FileStore/tables/landing_zone/yellow_taxi_data/\"\n",
    "df_yellow = processar_yellow_taxi(yellow_path=path)\n",
    "display(df_yellow.limit(10))"
   ]
  },
  {
   "cell_type": "markdown",
   "metadata": {
    "application/vnd.databricks.v1+cell": {
     "cellMetadata": {
      "byteLimit": 2048000,
      "rowLimit": 10000
     },
     "inputWidgets": {},
     "nuid": "07fffa15-c383-4784-9e3c-297da3fdb5c2",
     "showTitle": false,
     "tableResultSettingsMap": {},
     "title": ""
    }
   },
   "source": [
    "#### Green taxi data"
   ]
  },
  {
   "cell_type": "code",
   "execution_count": 0,
   "metadata": {
    "application/vnd.databricks.v1+cell": {
     "cellMetadata": {
      "byteLimit": 2048000,
      "rowLimit": 10000
     },
     "inputWidgets": {},
     "nuid": "8a8883d1-caa6-4a4a-abfa-d4b3e836cbab",
     "showTitle": false,
     "tableResultSettingsMap": {},
     "title": ""
    }
   },
   "outputs": [],
   "source": [
    "def processar_green_taxi(green_path: str):\n",
    "   \n",
    "    ano = '2023'\n",
    "    meses = ['01', '02', '03', '04', '05']\n",
    "\n",
    "    dfs = []\n",
    "\n",
    "    for mes in meses:\n",
    "\n",
    "        arquivo = f\"{green_path}green_tripdata_{ano}_{mes}.parquet\"\n",
    "        print(f\"Lendo arquivo: {arquivo}\")\n",
    "\n",
    "        df = spark.read.parquet(arquivo) \\\n",
    "            .withColumn(\"VendorID\", col(\"VendorID\").cast(\"long\")) \\\n",
    "            .withColumn(\"passenger_count\", col(\"passenger_count\").cast(\"long\")) \\\n",
    "            .withColumn(\"total_amount\", col(\"total_amount\").cast(\"double\")) \\\n",
    "            .withColumn(\"lpep_pickup_datetime\", col(\"lpep_pickup_datetime\").cast(\"timestamp\")) \\\n",
    "            .withColumn(\"lpep_dropoff_datetime\", col(\"lpep_dropoff_datetime\").cast(\"timestamp\"))\n",
    "        dfs.append(df)\n",
    "\n",
    "    if not dfs:\n",
    "        raise Exception(\"Nenhum arquivo foi lido com sucesso.\")\n",
    "\n",
    "    df_unificado = dfs[0]\n",
    "    \n",
    "    for df in dfs[1:]:\n",
    "        df_unificado = df_unificado.unionByName(df, allowMissingColumns=True)\n",
    "\n",
    "    return df_unificado"
   ]
  },
  {
   "cell_type": "code",
   "execution_count": 0,
   "metadata": {
    "application/vnd.databricks.v1+cell": {
     "cellMetadata": {
      "byteLimit": 2048000,
      "rowLimit": 10000
     },
     "inputWidgets": {},
     "nuid": "4a23084e-5d37-4b5f-a4cf-2644a2025085",
     "showTitle": false,
     "tableResultSettingsMap": {},
     "title": ""
    }
   },
   "outputs": [
    {
     "output_type": "stream",
     "name": "stdout",
     "output_type": "stream",
     "text": [
      "Lendo arquivo: dbfs:/FileStore/tables/landing_zone/green_taxi_data/green_tripdata_2023_01.parquet\nLendo arquivo: dbfs:/FileStore/tables/landing_zone/green_taxi_data/green_tripdata_2023_02.parquet\nLendo arquivo: dbfs:/FileStore/tables/landing_zone/green_taxi_data/green_tripdata_2023_03.parquet\nLendo arquivo: dbfs:/FileStore/tables/landing_zone/green_taxi_data/green_tripdata_2023_04.parquet\nLendo arquivo: dbfs:/FileStore/tables/landing_zone/green_taxi_data/green_tripdata_2023_05.parquet\n"
     ]
    },
    {
     "output_type": "display_data",
     "data": {
      "text/html": [
       "<style scoped>\n",
       "  .table-result-container {\n",
       "    max-height: 300px;\n",
       "    overflow: auto;\n",
       "  }\n",
       "  table, th, td {\n",
       "    border: 1px solid black;\n",
       "    border-collapse: collapse;\n",
       "  }\n",
       "  th, td {\n",
       "    padding: 5px;\n",
       "  }\n",
       "  th {\n",
       "    text-align: left;\n",
       "  }\n",
       "</style><div class='table-result-container'><table class='table-result'><thead style='background-color: white'><tr><th>VendorID</th><th>lpep_pickup_datetime</th><th>lpep_dropoff_datetime</th><th>store_and_fwd_flag</th><th>RatecodeID</th><th>PULocationID</th><th>DOLocationID</th><th>passenger_count</th><th>trip_distance</th><th>fare_amount</th><th>extra</th><th>mta_tax</th><th>tip_amount</th><th>tolls_amount</th><th>ehail_fee</th><th>improvement_surcharge</th><th>total_amount</th><th>payment_type</th><th>trip_type</th><th>congestion_surcharge</th></tr></thead><tbody><tr><td>2</td><td>2023-01-01T00:26:10.000+0000</td><td>2023-01-01T00:37:11.000+0000</td><td>N</td><td>1.0</td><td>166</td><td>143</td><td>1</td><td>2.58</td><td>14.9</td><td>1.0</td><td>0.5</td><td>4.03</td><td>0.0</td><td>null</td><td>1.0</td><td>24.18</td><td>1.0</td><td>1.0</td><td>2.75</td></tr><tr><td>2</td><td>2023-01-01T00:51:03.000+0000</td><td>2023-01-01T00:57:49.000+0000</td><td>N</td><td>1.0</td><td>24</td><td>43</td><td>1</td><td>1.81</td><td>10.7</td><td>1.0</td><td>0.5</td><td>2.64</td><td>0.0</td><td>null</td><td>1.0</td><td>15.84</td><td>1.0</td><td>1.0</td><td>0.0</td></tr><tr><td>2</td><td>2023-01-01T00:35:12.000+0000</td><td>2023-01-01T00:41:32.000+0000</td><td>N</td><td>1.0</td><td>223</td><td>179</td><td>1</td><td>0.0</td><td>7.2</td><td>1.0</td><td>0.5</td><td>1.94</td><td>0.0</td><td>null</td><td>1.0</td><td>11.64</td><td>1.0</td><td>1.0</td><td>0.0</td></tr><tr><td>1</td><td>2023-01-01T00:13:14.000+0000</td><td>2023-01-01T00:19:03.000+0000</td><td>N</td><td>1.0</td><td>41</td><td>238</td><td>1</td><td>1.3</td><td>6.5</td><td>0.5</td><td>1.5</td><td>1.7</td><td>0.0</td><td>null</td><td>1.0</td><td>10.2</td><td>1.0</td><td>1.0</td><td>0.0</td></tr><tr><td>1</td><td>2023-01-01T00:33:04.000+0000</td><td>2023-01-01T00:39:02.000+0000</td><td>N</td><td>1.0</td><td>41</td><td>74</td><td>1</td><td>1.1</td><td>6.0</td><td>0.5</td><td>1.5</td><td>0.0</td><td>0.0</td><td>null</td><td>1.0</td><td>8.0</td><td>1.0</td><td>1.0</td><td>0.0</td></tr><tr><td>2</td><td>2023-01-01T00:53:31.000+0000</td><td>2023-01-01T01:11:04.000+0000</td><td>N</td><td>1.0</td><td>41</td><td>262</td><td>1</td><td>2.78</td><td>17.7</td><td>1.0</td><td>0.5</td><td>0.0</td><td>0.0</td><td>null</td><td>1.0</td><td>22.95</td><td>2.0</td><td>1.0</td><td>2.75</td></tr><tr><td>1</td><td>2023-01-01T00:09:14.000+0000</td><td>2023-01-01T00:26:39.000+0000</td><td>N</td><td>1.0</td><td>181</td><td>45</td><td>2</td><td>3.8</td><td>19.1</td><td>3.75</td><td>1.5</td><td>4.85</td><td>0.0</td><td>null</td><td>1.0</td><td>29.2</td><td>1.0</td><td>1.0</td><td>2.75</td></tr><tr><td>2</td><td>2023-01-01T00:11:58.000+0000</td><td>2023-01-01T00:24:55.000+0000</td><td>N</td><td>1.0</td><td>24</td><td>75</td><td>1</td><td>1.88</td><td>14.2</td><td>1.0</td><td>0.5</td><td>0.0</td><td>0.0</td><td>null</td><td>1.0</td><td>16.7</td><td>2.0</td><td>1.0</td><td>0.0</td></tr><tr><td>2</td><td>2023-01-01T00:41:29.000+0000</td><td>2023-01-01T00:46:26.000+0000</td><td>N</td><td>1.0</td><td>41</td><td>166</td><td>2</td><td>1.11</td><td>7.2</td><td>1.0</td><td>0.5</td><td>1.0</td><td>0.0</td><td>null</td><td>1.0</td><td>10.7</td><td>1.0</td><td>1.0</td><td>0.0</td></tr><tr><td>2</td><td>2023-01-01T00:50:32.000+0000</td><td>2023-01-01T01:13:42.000+0000</td><td>N</td><td>1.0</td><td>24</td><td>140</td><td>1</td><td>4.22</td><td>24.7</td><td>1.0</td><td>0.5</td><td>3.0</td><td>0.0</td><td>null</td><td>1.0</td><td>32.95</td><td>1.0</td><td>1.0</td><td>2.75</td></tr></tbody></table></div>"
      ]
     },
     "metadata": {
      "application/vnd.databricks.v1+output": {
       "addedWidgets": {},
       "aggData": [],
       "aggError": "",
       "aggOverflow": false,
       "aggSchema": [],
       "aggSeriesLimitReached": false,
       "aggType": "",
       "arguments": {},
       "columnCustomDisplayInfos": {},
       "data": [
        [
         2,
         "2023-01-01T00:26:10.000+0000",
         "2023-01-01T00:37:11.000+0000",
         "N",
         1.0,
         166,
         143,
         1,
         2.58,
         14.9,
         1.0,
         0.5,
         4.03,
         0.0,
         null,
         1.0,
         24.18,
         1.0,
         1.0,
         2.75
        ],
        [
         2,
         "2023-01-01T00:51:03.000+0000",
         "2023-01-01T00:57:49.000+0000",
         "N",
         1.0,
         24,
         43,
         1,
         1.81,
         10.7,
         1.0,
         0.5,
         2.64,
         0.0,
         null,
         1.0,
         15.84,
         1.0,
         1.0,
         0.0
        ],
        [
         2,
         "2023-01-01T00:35:12.000+0000",
         "2023-01-01T00:41:32.000+0000",
         "N",
         1.0,
         223,
         179,
         1,
         0.0,
         7.2,
         1.0,
         0.5,
         1.94,
         0.0,
         null,
         1.0,
         11.64,
         1.0,
         1.0,
         0.0
        ],
        [
         1,
         "2023-01-01T00:13:14.000+0000",
         "2023-01-01T00:19:03.000+0000",
         "N",
         1.0,
         41,
         238,
         1,
         1.3,
         6.5,
         0.5,
         1.5,
         1.7,
         0.0,
         null,
         1.0,
         10.2,
         1.0,
         1.0,
         0.0
        ],
        [
         1,
         "2023-01-01T00:33:04.000+0000",
         "2023-01-01T00:39:02.000+0000",
         "N",
         1.0,
         41,
         74,
         1,
         1.1,
         6.0,
         0.5,
         1.5,
         0.0,
         0.0,
         null,
         1.0,
         8.0,
         1.0,
         1.0,
         0.0
        ],
        [
         2,
         "2023-01-01T00:53:31.000+0000",
         "2023-01-01T01:11:04.000+0000",
         "N",
         1.0,
         41,
         262,
         1,
         2.78,
         17.7,
         1.0,
         0.5,
         0.0,
         0.0,
         null,
         1.0,
         22.95,
         2.0,
         1.0,
         2.75
        ],
        [
         1,
         "2023-01-01T00:09:14.000+0000",
         "2023-01-01T00:26:39.000+0000",
         "N",
         1.0,
         181,
         45,
         2,
         3.8,
         19.1,
         3.75,
         1.5,
         4.85,
         0.0,
         null,
         1.0,
         29.2,
         1.0,
         1.0,
         2.75
        ],
        [
         2,
         "2023-01-01T00:11:58.000+0000",
         "2023-01-01T00:24:55.000+0000",
         "N",
         1.0,
         24,
         75,
         1,
         1.88,
         14.2,
         1.0,
         0.5,
         0.0,
         0.0,
         null,
         1.0,
         16.7,
         2.0,
         1.0,
         0.0
        ],
        [
         2,
         "2023-01-01T00:41:29.000+0000",
         "2023-01-01T00:46:26.000+0000",
         "N",
         1.0,
         41,
         166,
         2,
         1.11,
         7.2,
         1.0,
         0.5,
         1.0,
         0.0,
         null,
         1.0,
         10.7,
         1.0,
         1.0,
         0.0
        ],
        [
         2,
         "2023-01-01T00:50:32.000+0000",
         "2023-01-01T01:13:42.000+0000",
         "N",
         1.0,
         24,
         140,
         1,
         4.22,
         24.7,
         1.0,
         0.5,
         3.0,
         0.0,
         null,
         1.0,
         32.95,
         1.0,
         1.0,
         2.75
        ]
       ],
       "datasetInfos": [],
       "dbfsResultPath": null,
       "isJsonSchema": true,
       "metadata": {},
       "overflow": false,
       "plotOptions": {
        "customPlotOptions": {},
        "displayType": "table",
        "pivotAggregation": null,
        "pivotColumns": null,
        "xColumns": null,
        "yColumns": null
       },
       "removedWidgets": [],
       "schema": [
        {
         "metadata": "{}",
         "name": "VendorID",
         "type": "\"long\""
        },
        {
         "metadata": "{}",
         "name": "lpep_pickup_datetime",
         "type": "\"timestamp\""
        },
        {
         "metadata": "{}",
         "name": "lpep_dropoff_datetime",
         "type": "\"timestamp\""
        },
        {
         "metadata": "{}",
         "name": "store_and_fwd_flag",
         "type": "\"string\""
        },
        {
         "metadata": "{}",
         "name": "RatecodeID",
         "type": "\"double\""
        },
        {
         "metadata": "{}",
         "name": "PULocationID",
         "type": "\"long\""
        },
        {
         "metadata": "{}",
         "name": "DOLocationID",
         "type": "\"long\""
        },
        {
         "metadata": "{}",
         "name": "passenger_count",
         "type": "\"long\""
        },
        {
         "metadata": "{}",
         "name": "trip_distance",
         "type": "\"double\""
        },
        {
         "metadata": "{}",
         "name": "fare_amount",
         "type": "\"double\""
        },
        {
         "metadata": "{}",
         "name": "extra",
         "type": "\"double\""
        },
        {
         "metadata": "{}",
         "name": "mta_tax",
         "type": "\"double\""
        },
        {
         "metadata": "{}",
         "name": "tip_amount",
         "type": "\"double\""
        },
        {
         "metadata": "{}",
         "name": "tolls_amount",
         "type": "\"double\""
        },
        {
         "metadata": "{}",
         "name": "ehail_fee",
         "type": "\"double\""
        },
        {
         "metadata": "{}",
         "name": "improvement_surcharge",
         "type": "\"double\""
        },
        {
         "metadata": "{}",
         "name": "total_amount",
         "type": "\"double\""
        },
        {
         "metadata": "{}",
         "name": "payment_type",
         "type": "\"double\""
        },
        {
         "metadata": "{}",
         "name": "trip_type",
         "type": "\"double\""
        },
        {
         "metadata": "{}",
         "name": "congestion_surcharge",
         "type": "\"double\""
        }
       ],
       "type": "table"
      }
     },
     "output_type": "display_data"
    }
   ],
   "source": [
    "path = \"dbfs:/FileStore/tables/landing_zone/green_taxi_data/\"\n",
    "df_green = processar_green_taxi(green_path=path)\n",
    "display(df_green.limit(10))"
   ]
  },
  {
   "cell_type": "markdown",
   "metadata": {
    "application/vnd.databricks.v1+cell": {
     "cellMetadata": {
      "byteLimit": 2048000,
      "rowLimit": 10000
     },
     "inputWidgets": {},
     "nuid": "5c60c440-e6db-45a4-956f-c8f0561a9042",
     "showTitle": false,
     "tableResultSettingsMap": {},
     "title": ""
    }
   },
   "source": [
    "#### FHV e FHVHV taxi data"
   ]
  },
  {
   "cell_type": "code",
   "execution_count": 0,
   "metadata": {
    "application/vnd.databricks.v1+cell": {
     "cellMetadata": {
      "byteLimit": 2048000,
      "rowLimit": 10000
     },
     "inputWidgets": {},
     "nuid": "fcd4a492-a512-4a6b-8918-8a79851f6c6a",
     "showTitle": false,
     "tableResultSettingsMap": {},
     "title": ""
    }
   },
   "outputs": [],
   "source": [
    "def processar_dados_taxi(taxi_path: str, tipo: str):\n",
    "   \n",
    "    ano = '2023'\n",
    "    meses = ['01', '02', '03', '04', '05']\n",
    "\n",
    "    dfs = []\n",
    "\n",
    "    for mes in meses:\n",
    "\n",
    "        arquivo = f\"{taxi_path}{tipo}_tripdata_{ano}_{mes}.parquet\"\n",
    "        print(f\"Lendo arquivo: {arquivo}\")\n",
    "\n",
    "        df = spark.read.parquet(arquivo)\n",
    "        dfs.append(df)\n",
    "\n",
    "    if not dfs:\n",
    "        raise Exception(\"Nenhum arquivo foi lido com sucesso.\")\n",
    "\n",
    "    df_unificado = dfs[0]\n",
    "    \n",
    "    for df in dfs[1:]:\n",
    "        df_unificado = df_unificado.unionByName(df, allowMissingColumns=True)\n",
    "\n",
    "    return df_unificado"
   ]
  },
  {
   "cell_type": "code",
   "execution_count": 0,
   "metadata": {
    "application/vnd.databricks.v1+cell": {
     "cellMetadata": {
      "byteLimit": 2048000,
      "rowLimit": 10000
     },
     "inputWidgets": {},
     "nuid": "42b51c9f-f078-4ab9-ac5f-9438d4d8ac43",
     "showTitle": false,
     "tableResultSettingsMap": {},
     "title": ""
    }
   },
   "outputs": [
    {
     "output_type": "stream",
     "name": "stdout",
     "output_type": "stream",
     "text": [
      "Lendo arquivo: dbfs:/FileStore/tables/landing_zone/fhv_taxi_data/fhv_tripdata_2023_01.parquet\nLendo arquivo: dbfs:/FileStore/tables/landing_zone/fhv_taxi_data/fhv_tripdata_2023_02.parquet\nLendo arquivo: dbfs:/FileStore/tables/landing_zone/fhv_taxi_data/fhv_tripdata_2023_03.parquet\nLendo arquivo: dbfs:/FileStore/tables/landing_zone/fhv_taxi_data/fhv_tripdata_2023_04.parquet\nLendo arquivo: dbfs:/FileStore/tables/landing_zone/fhv_taxi_data/fhv_tripdata_2023_05.parquet\n"
     ]
    },
    {
     "output_type": "display_data",
     "data": {
      "text/html": [
       "<style scoped>\n",
       "  .table-result-container {\n",
       "    max-height: 300px;\n",
       "    overflow: auto;\n",
       "  }\n",
       "  table, th, td {\n",
       "    border: 1px solid black;\n",
       "    border-collapse: collapse;\n",
       "  }\n",
       "  th, td {\n",
       "    padding: 5px;\n",
       "  }\n",
       "  th {\n",
       "    text-align: left;\n",
       "  }\n",
       "</style><div class='table-result-container'><table class='table-result'><thead style='background-color: white'><tr><th>dispatching_base_num</th><th>pickup_datetime</th><th>dropOff_datetime</th><th>PUlocationID</th><th>DOlocationID</th><th>SR_Flag</th><th>Affiliated_base_number</th></tr></thead><tbody><tr><td>B00008</td><td>2023-01-01T00:30:00.000+0000</td><td>2023-01-01T01:00:00.000+0000</td><td>null</td><td>null</td><td>null</td><td>B00008</td></tr><tr><td>B00078</td><td>2023-01-01T00:01:00.000+0000</td><td>2023-01-01T03:15:00.000+0000</td><td>null</td><td>null</td><td>null</td><td>B00078</td></tr><tr><td>B00111</td><td>2023-01-01T00:30:00.000+0000</td><td>2023-01-01T01:05:00.000+0000</td><td>null</td><td>null</td><td>null</td><td>B03406</td></tr><tr><td>B00112</td><td>2023-01-01T00:34:45.000+0000</td><td>2023-01-01T00:52:03.000+0000</td><td>null</td><td>14.0</td><td>null</td><td>B00112</td></tr><tr><td>B00112</td><td>2023-01-01T00:11:20.000+0000</td><td>2023-01-01T00:22:03.000+0000</td><td>null</td><td>14.0</td><td>null</td><td>B00112</td></tr><tr><td>B00112</td><td>2023-01-01T00:33:28.000+0000</td><td>2023-01-01T00:53:46.000+0000</td><td>null</td><td>29.0</td><td>null</td><td>B00112</td></tr><tr><td>B00112</td><td>2023-01-01T00:33:11.000+0000</td><td>2023-01-01T00:48:45.000+0000</td><td>null</td><td>14.0</td><td>null</td><td>B00112</td></tr><tr><td>B00112</td><td>2023-01-01T00:55:24.000+0000</td><td>2023-01-01T01:02:55.000+0000</td><td>null</td><td>14.0</td><td>null</td><td>B00112</td></tr><tr><td>B00112</td><td>2023-01-01T00:39:16.000+0000</td><td>2023-01-01T00:39:23.000+0000</td><td>null</td><td>14.0</td><td>null</td><td>B00112</td></tr><tr><td>B00112</td><td>2023-01-01T00:50:10.000+0000</td><td>2023-01-01T00:50:17.000+0000</td><td>null</td><td>14.0</td><td>null</td><td>B00112</td></tr></tbody></table></div>"
      ]
     },
     "metadata": {
      "application/vnd.databricks.v1+output": {
       "addedWidgets": {},
       "aggData": [],
       "aggError": "",
       "aggOverflow": false,
       "aggSchema": [],
       "aggSeriesLimitReached": false,
       "aggType": "",
       "arguments": {},
       "columnCustomDisplayInfos": {},
       "data": [
        [
         "B00008",
         "2023-01-01T00:30:00.000+0000",
         "2023-01-01T01:00:00.000+0000",
         null,
         null,
         null,
         "B00008"
        ],
        [
         "B00078",
         "2023-01-01T00:01:00.000+0000",
         "2023-01-01T03:15:00.000+0000",
         null,
         null,
         null,
         "B00078"
        ],
        [
         "B00111",
         "2023-01-01T00:30:00.000+0000",
         "2023-01-01T01:05:00.000+0000",
         null,
         null,
         null,
         "B03406"
        ],
        [
         "B00112",
         "2023-01-01T00:34:45.000+0000",
         "2023-01-01T00:52:03.000+0000",
         null,
         14.0,
         null,
         "B00112"
        ],
        [
         "B00112",
         "2023-01-01T00:11:20.000+0000",
         "2023-01-01T00:22:03.000+0000",
         null,
         14.0,
         null,
         "B00112"
        ],
        [
         "B00112",
         "2023-01-01T00:33:28.000+0000",
         "2023-01-01T00:53:46.000+0000",
         null,
         29.0,
         null,
         "B00112"
        ],
        [
         "B00112",
         "2023-01-01T00:33:11.000+0000",
         "2023-01-01T00:48:45.000+0000",
         null,
         14.0,
         null,
         "B00112"
        ],
        [
         "B00112",
         "2023-01-01T00:55:24.000+0000",
         "2023-01-01T01:02:55.000+0000",
         null,
         14.0,
         null,
         "B00112"
        ],
        [
         "B00112",
         "2023-01-01T00:39:16.000+0000",
         "2023-01-01T00:39:23.000+0000",
         null,
         14.0,
         null,
         "B00112"
        ],
        [
         "B00112",
         "2023-01-01T00:50:10.000+0000",
         "2023-01-01T00:50:17.000+0000",
         null,
         14.0,
         null,
         "B00112"
        ]
       ],
       "datasetInfos": [],
       "dbfsResultPath": null,
       "isJsonSchema": true,
       "metadata": {},
       "overflow": false,
       "plotOptions": {
        "customPlotOptions": {},
        "displayType": "table",
        "pivotAggregation": null,
        "pivotColumns": null,
        "xColumns": null,
        "yColumns": null
       },
       "removedWidgets": [],
       "schema": [
        {
         "metadata": "{}",
         "name": "dispatching_base_num",
         "type": "\"string\""
        },
        {
         "metadata": "{}",
         "name": "pickup_datetime",
         "type": "\"timestamp\""
        },
        {
         "metadata": "{}",
         "name": "dropOff_datetime",
         "type": "\"timestamp\""
        },
        {
         "metadata": "{}",
         "name": "PUlocationID",
         "type": "\"double\""
        },
        {
         "metadata": "{}",
         "name": "DOlocationID",
         "type": "\"double\""
        },
        {
         "metadata": "{}",
         "name": "SR_Flag",
         "type": "\"long\""
        },
        {
         "metadata": "{}",
         "name": "Affiliated_base_number",
         "type": "\"string\""
        }
       ],
       "type": "table"
      }
     },
     "output_type": "display_data"
    }
   ],
   "source": [
    "path = \"dbfs:/FileStore/tables/landing_zone/fhv_taxi_data/\"\n",
    "df_fhv = processar_dados_taxi(taxi_path=path, tipo='fhv')\n",
    "display(df_fhv.limit(10))"
   ]
  },
  {
   "cell_type": "code",
   "execution_count": 0,
   "metadata": {
    "application/vnd.databricks.v1+cell": {
     "cellMetadata": {
      "byteLimit": 2048000,
      "rowLimit": 10000
     },
     "inputWidgets": {},
     "nuid": "4612c88d-deff-499f-9373-1ba60eac47ed",
     "showTitle": false,
     "tableResultSettingsMap": {},
     "title": ""
    }
   },
   "outputs": [
    {
     "output_type": "stream",
     "name": "stdout",
     "output_type": "stream",
     "text": [
      "Lendo arquivo: dbfs:/FileStore/tables/landing_zone/fhvhv_taxi_data/fhvhv_tripdata_2023_01.parquet\nLendo arquivo: dbfs:/FileStore/tables/landing_zone/fhvhv_taxi_data/fhvhv_tripdata_2023_02.parquet\nLendo arquivo: dbfs:/FileStore/tables/landing_zone/fhvhv_taxi_data/fhvhv_tripdata_2023_03.parquet\nLendo arquivo: dbfs:/FileStore/tables/landing_zone/fhvhv_taxi_data/fhvhv_tripdata_2023_04.parquet\nLendo arquivo: dbfs:/FileStore/tables/landing_zone/fhvhv_taxi_data/fhvhv_tripdata_2023_05.parquet\n"
     ]
    },
    {
     "output_type": "display_data",
     "data": {
      "text/html": [
       "<style scoped>\n",
       "  .table-result-container {\n",
       "    max-height: 300px;\n",
       "    overflow: auto;\n",
       "  }\n",
       "  table, th, td {\n",
       "    border: 1px solid black;\n",
       "    border-collapse: collapse;\n",
       "  }\n",
       "  th, td {\n",
       "    padding: 5px;\n",
       "  }\n",
       "  th {\n",
       "    text-align: left;\n",
       "  }\n",
       "</style><div class='table-result-container'><table class='table-result'><thead style='background-color: white'><tr><th>hvfhs_license_num</th><th>dispatching_base_num</th><th>originating_base_num</th><th>request_datetime</th><th>on_scene_datetime</th><th>pickup_datetime</th><th>dropoff_datetime</th><th>PULocationID</th><th>DOLocationID</th><th>trip_miles</th><th>trip_time</th><th>base_passenger_fare</th><th>tolls</th><th>bcf</th><th>sales_tax</th><th>congestion_surcharge</th><th>airport_fee</th><th>tips</th><th>driver_pay</th><th>shared_request_flag</th><th>shared_match_flag</th><th>access_a_ride_flag</th><th>wav_request_flag</th><th>wav_match_flag</th></tr></thead><tbody><tr><td>HV0003</td><td>B03404</td><td>B03404</td><td>2023-01-01T00:18:06.000+0000</td><td>2023-01-01T00:19:24.000+0000</td><td>2023-01-01T00:19:38.000+0000</td><td>2023-01-01T00:48:07.000+0000</td><td>48</td><td>68</td><td>0.94</td><td>1709</td><td>25.95</td><td>0.0</td><td>0.78</td><td>2.3</td><td>2.75</td><td>0.0</td><td>5.22</td><td>27.83</td><td>N</td><td>N</td><td> </td><td>N</td><td>N</td></tr><tr><td>HV0003</td><td>B03404</td><td>B03404</td><td>2023-01-01T00:48:42.000+0000</td><td>2023-01-01T00:56:20.000+0000</td><td>2023-01-01T00:58:39.000+0000</td><td>2023-01-01T01:33:08.000+0000</td><td>246</td><td>163</td><td>2.78</td><td>2069</td><td>60.14</td><td>0.0</td><td>1.8</td><td>5.34</td><td>2.75</td><td>0.0</td><td>0.0</td><td>50.15</td><td>N</td><td>N</td><td> </td><td>N</td><td>N</td></tr><tr><td>HV0003</td><td>B03404</td><td>B03404</td><td>2023-01-01T00:15:35.000+0000</td><td>2023-01-01T00:20:14.000+0000</td><td>2023-01-01T00:20:27.000+0000</td><td>2023-01-01T00:37:54.000+0000</td><td>9</td><td>129</td><td>8.81</td><td>1047</td><td>24.37</td><td>0.0</td><td>0.73</td><td>2.16</td><td>0.0</td><td>0.0</td><td>0.0</td><td>20.22</td><td>N</td><td>N</td><td> </td><td>N</td><td>N</td></tr><tr><td>HV0003</td><td>B03404</td><td>B03404</td><td>2023-01-01T00:35:24.000+0000</td><td>2023-01-01T00:39:30.000+0000</td><td>2023-01-01T00:41:05.000+0000</td><td>2023-01-01T00:48:16.000+0000</td><td>129</td><td>129</td><td>0.67</td><td>431</td><td>13.8</td><td>0.0</td><td>0.41</td><td>1.22</td><td>0.0</td><td>0.0</td><td>0.0</td><td>7.9</td><td>N</td><td>N</td><td> </td><td>N</td><td>N</td></tr><tr><td>HV0003</td><td>B03404</td><td>B03404</td><td>2023-01-01T00:43:15.000+0000</td><td>2023-01-01T00:51:10.000+0000</td><td>2023-01-01T00:52:47.000+0000</td><td>2023-01-01T01:04:51.000+0000</td><td>129</td><td>92</td><td>4.38</td><td>724</td><td>20.49</td><td>0.0</td><td>0.61</td><td>1.82</td><td>0.0</td><td>0.0</td><td>0.0</td><td>16.48</td><td>N</td><td>N</td><td> </td><td>N</td><td>N</td></tr><tr><td>HV0005</td><td>B03406</td><td>null</td><td>2023-01-01T00:21:34.000+0000</td><td>null</td><td>2023-01-01T00:29:05.000+0000</td><td>2023-01-01T00:49:54.000+0000</td><td>130</td><td>38</td><td>4.921</td><td>1249</td><td>18.29</td><td>0.0</td><td>0.43</td><td>1.27</td><td>0.0</td><td>0.0</td><td>0.0</td><td>16.81</td><td>N</td><td>N</td><td>N</td><td>N</td><td>N</td></tr><tr><td>HV0005</td><td>B03406</td><td>null</td><td>2023-01-01T00:47:17.000+0000</td><td>null</td><td>2023-01-01T00:55:29.000+0000</td><td>2023-01-01T01:16:07.000+0000</td><td>38</td><td>10</td><td>5.517</td><td>1238</td><td>25.76</td><td>0.0</td><td>0.77</td><td>2.29</td><td>0.0</td><td>0.0</td><td>0.0</td><td>23.65</td><td>N</td><td>N</td><td>N</td><td>N</td><td>N</td></tr><tr><td>HV0003</td><td>B03404</td><td>B03404</td><td>2023-01-01T00:06:54.000+0000</td><td>2023-01-01T00:08:59.000+0000</td><td>2023-01-01T00:10:29.000+0000</td><td>2023-01-01T00:18:22.000+0000</td><td>90</td><td>231</td><td>1.89</td><td>473</td><td>14.51</td><td>0.0</td><td>0.44</td><td>1.29</td><td>2.75</td><td>0.0</td><td>0.0</td><td>13.73</td><td>N</td><td>N</td><td> </td><td>N</td><td>Y</td></tr><tr><td>HV0003</td><td>B03404</td><td>B03404</td><td>2023-01-01T00:15:22.000+0000</td><td>2023-01-01T00:21:39.000+0000</td><td>2023-01-01T00:22:10.000+0000</td><td>2023-01-01T00:33:14.000+0000</td><td>125</td><td>246</td><td>2.65</td><td>664</td><td>13.0</td><td>0.0</td><td>0.39</td><td>1.15</td><td>2.75</td><td>0.0</td><td>0.0</td><td>13.61</td><td>N</td><td>N</td><td> </td><td>N</td><td>Y</td></tr><tr><td>HV0003</td><td>B03404</td><td>B03404</td><td>2023-01-01T00:26:02.000+0000</td><td>2023-01-01T00:39:09.000+0000</td><td>2023-01-01T00:39:09.000+0000</td><td>2023-01-01T01:03:50.000+0000</td><td>68</td><td>231</td><td>3.26</td><td>1481</td><td>30.38</td><td>0.0</td><td>0.91</td><td>2.7</td><td>2.75</td><td>0.0</td><td>0.0</td><td>28.25</td><td>N</td><td>N</td><td> </td><td>N</td><td>Y</td></tr></tbody></table></div>"
      ]
     },
     "metadata": {
      "application/vnd.databricks.v1+output": {
       "addedWidgets": {},
       "aggData": [],
       "aggError": "",
       "aggOverflow": false,
       "aggSchema": [],
       "aggSeriesLimitReached": false,
       "aggType": "",
       "arguments": {},
       "columnCustomDisplayInfos": {},
       "data": [
        [
         "HV0003",
         "B03404",
         "B03404",
         "2023-01-01T00:18:06.000+0000",
         "2023-01-01T00:19:24.000+0000",
         "2023-01-01T00:19:38.000+0000",
         "2023-01-01T00:48:07.000+0000",
         48,
         68,
         0.94,
         1709,
         25.95,
         0.0,
         0.78,
         2.3,
         2.75,
         0.0,
         5.22,
         27.83,
         "N",
         "N",
         " ",
         "N",
         "N"
        ],
        [
         "HV0003",
         "B03404",
         "B03404",
         "2023-01-01T00:48:42.000+0000",
         "2023-01-01T00:56:20.000+0000",
         "2023-01-01T00:58:39.000+0000",
         "2023-01-01T01:33:08.000+0000",
         246,
         163,
         2.78,
         2069,
         60.14,
         0.0,
         1.8,
         5.34,
         2.75,
         0.0,
         0.0,
         50.15,
         "N",
         "N",
         " ",
         "N",
         "N"
        ],
        [
         "HV0003",
         "B03404",
         "B03404",
         "2023-01-01T00:15:35.000+0000",
         "2023-01-01T00:20:14.000+0000",
         "2023-01-01T00:20:27.000+0000",
         "2023-01-01T00:37:54.000+0000",
         9,
         129,
         8.81,
         1047,
         24.37,
         0.0,
         0.73,
         2.16,
         0.0,
         0.0,
         0.0,
         20.22,
         "N",
         "N",
         " ",
         "N",
         "N"
        ],
        [
         "HV0003",
         "B03404",
         "B03404",
         "2023-01-01T00:35:24.000+0000",
         "2023-01-01T00:39:30.000+0000",
         "2023-01-01T00:41:05.000+0000",
         "2023-01-01T00:48:16.000+0000",
         129,
         129,
         0.67,
         431,
         13.8,
         0.0,
         0.41,
         1.22,
         0.0,
         0.0,
         0.0,
         7.9,
         "N",
         "N",
         " ",
         "N",
         "N"
        ],
        [
         "HV0003",
         "B03404",
         "B03404",
         "2023-01-01T00:43:15.000+0000",
         "2023-01-01T00:51:10.000+0000",
         "2023-01-01T00:52:47.000+0000",
         "2023-01-01T01:04:51.000+0000",
         129,
         92,
         4.38,
         724,
         20.49,
         0.0,
         0.61,
         1.82,
         0.0,
         0.0,
         0.0,
         16.48,
         "N",
         "N",
         " ",
         "N",
         "N"
        ],
        [
         "HV0005",
         "B03406",
         null,
         "2023-01-01T00:21:34.000+0000",
         null,
         "2023-01-01T00:29:05.000+0000",
         "2023-01-01T00:49:54.000+0000",
         130,
         38,
         4.921,
         1249,
         18.29,
         0.0,
         0.43,
         1.27,
         0.0,
         0.0,
         0.0,
         16.81,
         "N",
         "N",
         "N",
         "N",
         "N"
        ],
        [
         "HV0005",
         "B03406",
         null,
         "2023-01-01T00:47:17.000+0000",
         null,
         "2023-01-01T00:55:29.000+0000",
         "2023-01-01T01:16:07.000+0000",
         38,
         10,
         5.517,
         1238,
         25.76,
         0.0,
         0.77,
         2.29,
         0.0,
         0.0,
         0.0,
         23.65,
         "N",
         "N",
         "N",
         "N",
         "N"
        ],
        [
         "HV0003",
         "B03404",
         "B03404",
         "2023-01-01T00:06:54.000+0000",
         "2023-01-01T00:08:59.000+0000",
         "2023-01-01T00:10:29.000+0000",
         "2023-01-01T00:18:22.000+0000",
         90,
         231,
         1.89,
         473,
         14.51,
         0.0,
         0.44,
         1.29,
         2.75,
         0.0,
         0.0,
         13.73,
         "N",
         "N",
         " ",
         "N",
         "Y"
        ],
        [
         "HV0003",
         "B03404",
         "B03404",
         "2023-01-01T00:15:22.000+0000",
         "2023-01-01T00:21:39.000+0000",
         "2023-01-01T00:22:10.000+0000",
         "2023-01-01T00:33:14.000+0000",
         125,
         246,
         2.65,
         664,
         13.0,
         0.0,
         0.39,
         1.15,
         2.75,
         0.0,
         0.0,
         13.61,
         "N",
         "N",
         " ",
         "N",
         "Y"
        ],
        [
         "HV0003",
         "B03404",
         "B03404",
         "2023-01-01T00:26:02.000+0000",
         "2023-01-01T00:39:09.000+0000",
         "2023-01-01T00:39:09.000+0000",
         "2023-01-01T01:03:50.000+0000",
         68,
         231,
         3.26,
         1481,
         30.38,
         0.0,
         0.91,
         2.7,
         2.75,
         0.0,
         0.0,
         28.25,
         "N",
         "N",
         " ",
         "N",
         "Y"
        ]
       ],
       "datasetInfos": [],
       "dbfsResultPath": null,
       "isJsonSchema": true,
       "metadata": {},
       "overflow": false,
       "plotOptions": {
        "customPlotOptions": {},
        "displayType": "table",
        "pivotAggregation": null,
        "pivotColumns": null,
        "xColumns": null,
        "yColumns": null
       },
       "removedWidgets": [],
       "schema": [
        {
         "metadata": "{}",
         "name": "hvfhs_license_num",
         "type": "\"string\""
        },
        {
         "metadata": "{}",
         "name": "dispatching_base_num",
         "type": "\"string\""
        },
        {
         "metadata": "{}",
         "name": "originating_base_num",
         "type": "\"string\""
        },
        {
         "metadata": "{}",
         "name": "request_datetime",
         "type": "\"timestamp\""
        },
        {
         "metadata": "{}",
         "name": "on_scene_datetime",
         "type": "\"timestamp\""
        },
        {
         "metadata": "{}",
         "name": "pickup_datetime",
         "type": "\"timestamp\""
        },
        {
         "metadata": "{}",
         "name": "dropoff_datetime",
         "type": "\"timestamp\""
        },
        {
         "metadata": "{}",
         "name": "PULocationID",
         "type": "\"long\""
        },
        {
         "metadata": "{}",
         "name": "DOLocationID",
         "type": "\"long\""
        },
        {
         "metadata": "{}",
         "name": "trip_miles",
         "type": "\"double\""
        },
        {
         "metadata": "{}",
         "name": "trip_time",
         "type": "\"long\""
        },
        {
         "metadata": "{}",
         "name": "base_passenger_fare",
         "type": "\"double\""
        },
        {
         "metadata": "{}",
         "name": "tolls",
         "type": "\"double\""
        },
        {
         "metadata": "{}",
         "name": "bcf",
         "type": "\"double\""
        },
        {
         "metadata": "{}",
         "name": "sales_tax",
         "type": "\"double\""
        },
        {
         "metadata": "{}",
         "name": "congestion_surcharge",
         "type": "\"double\""
        },
        {
         "metadata": "{}",
         "name": "airport_fee",
         "type": "\"double\""
        },
        {
         "metadata": "{}",
         "name": "tips",
         "type": "\"double\""
        },
        {
         "metadata": "{}",
         "name": "driver_pay",
         "type": "\"double\""
        },
        {
         "metadata": "{}",
         "name": "shared_request_flag",
         "type": "\"string\""
        },
        {
         "metadata": "{}",
         "name": "shared_match_flag",
         "type": "\"string\""
        },
        {
         "metadata": "{}",
         "name": "access_a_ride_flag",
         "type": "\"string\""
        },
        {
         "metadata": "{}",
         "name": "wav_request_flag",
         "type": "\"string\""
        },
        {
         "metadata": "{}",
         "name": "wav_match_flag",
         "type": "\"string\""
        }
       ],
       "type": "table"
      }
     },
     "output_type": "display_data"
    }
   ],
   "source": [
    "path = \"dbfs:/FileStore/tables/landing_zone/fhvhv_taxi_data/\"\n",
    "df_fhvhv = processar_dados_taxi(taxi_path=path, tipo='fhvhv')\n",
    "display(df_fhvhv.limit(10))"
   ]
  },
  {
   "cell_type": "markdown",
   "metadata": {
    "application/vnd.databricks.v1+cell": {
     "cellMetadata": {
      "byteLimit": 2048000,
      "rowLimit": 10000
     },
     "inputWidgets": {},
     "nuid": "e99b0a29-07b6-4355-9531-1bf1273eff3d",
     "showTitle": false,
     "tableResultSettingsMap": {},
     "title": ""
    }
   },
   "source": [
    "## Carregar todos os arquivos na camada bronze"
   ]
  },
  {
   "cell_type": "code",
   "execution_count": 0,
   "metadata": {
    "application/vnd.databricks.v1+cell": {
     "cellMetadata": {
      "byteLimit": 2048000,
      "rowLimit": 10000
     },
     "inputWidgets": {},
     "nuid": "5ab87806-d2aa-43f5-9845-4a7422cc5016",
     "showTitle": false,
     "tableResultSettingsMap": {},
     "title": ""
    }
   },
   "outputs": [],
   "source": [
    "def escrever_bronze(df, tipo: str, bronze_path: str):\n",
    "    \n",
    "    destino = f\"{bronze_path}/{tipo}_taxi_data\"\n",
    "    \n",
    "    print(f\"Escrevendo dados para o tipo '{tipo}' na camada bronze em: {destino}\")\n",
    "    \n",
    "    # Escrita como Delta\n",
    "\n",
    "    df.write.format('delta').mode('overwrite').save(destino)\n",
    "    \n",
    "    # Criacao da tabela no catalogo (hive)\n",
    "\n",
    "    spark.sql(f\"DROP TABLE IF EXISTS bronze_{tipo}_taxi_data\")\n",
    "    \n",
    "    spark.sql(f\"\"\"\n",
    "        CREATE TABLE bronze_{tipo}_taxi_data\n",
    "        USING DELTA\n",
    "        LOCATION '{destino}'\n",
    "    \"\"\")\n",
    "    \n",
    "    print(f\"Tabela 'bronze_{tipo}_taxi_data' criada com sucesso.\")"
   ]
  },
  {
   "cell_type": "code",
   "execution_count": 0,
   "metadata": {
    "application/vnd.databricks.v1+cell": {
     "cellMetadata": {
      "byteLimit": 2048000,
      "rowLimit": 10000
     },
     "inputWidgets": {},
     "nuid": "3ff311a8-06bc-4e31-a188-6cc567188c66",
     "showTitle": false,
     "tableResultSettingsMap": {},
     "title": ""
    }
   },
   "outputs": [
    {
     "output_type": "stream",
     "name": "stdout",
     "output_type": "stream",
     "text": [
      "Escrevendo dados para o tipo 'yellow' na camada bronze em: dbfs:/FileStore/tables/bronze/yellow_taxi_data\nTabela 'bronze_yellow_taxi_data' criada com sucesso.\nEscrevendo dados para o tipo 'green' na camada bronze em: dbfs:/FileStore/tables/bronze/green_taxi_data\nTabela 'bronze_green_taxi_data' criada com sucesso.\nEscrevendo dados para o tipo 'fhv' na camada bronze em: dbfs:/FileStore/tables/bronze/fhv_taxi_data\nTabela 'bronze_fhv_taxi_data' criada com sucesso.\nEscrevendo dados para o tipo 'fhvhv' na camada bronze em: dbfs:/FileStore/tables/bronze/fhvhv_taxi_data\nTabela 'bronze_fhvhv_taxi_data' criada com sucesso.\n"
     ]
    }
   ],
   "source": [
    "bronze_path = 'dbfs:/FileStore/tables/bronze'\n",
    "\n",
    "escrever_bronze(df_yellow, 'yellow', bronze_path)\n",
    "escrever_bronze(df_green, 'green', bronze_path)\n",
    "escrever_bronze(df_fhv, 'fhv', bronze_path)\n",
    "escrever_bronze(df_fhvhv, 'fhvhv', bronze_path)"
   ]
  },
  {
   "cell_type": "markdown",
   "metadata": {
    "application/vnd.databricks.v1+cell": {
     "cellMetadata": {
      "byteLimit": 2048000,
      "rowLimit": 10000
     },
     "inputWidgets": {},
     "nuid": "85b0fc5d-9408-499d-bbfe-e2822a376d6f",
     "showTitle": false,
     "tableResultSettingsMap": {},
     "title": ""
    }
   },
   "source": [
    "A partir deste momento, não é mais necessário realizar a leitura direta dos arquivos '.parquet'. Podemos utilizar as tabelas Delta registradas que oferecem diversas vantagens importantes para a organização e eficiência da solução do teste. Em primeiro lugar, temos a abstração do caminho físico dos arquivos, tornando possível acessar os dados apenas pelo nome da tabela, o que simplifica consultas e manipulações. Além disso, o Delta Lake oferece otimizações internas, como controle de metadados, indexação e log de transações, que resultam em melhor desempenho na leitura e escrita dos dados."
   ]
  },
  {
   "cell_type": "markdown",
   "metadata": {
    "application/vnd.databricks.v1+cell": {
     "cellMetadata": {
      "byteLimit": 2048000,
      "rowLimit": 10000
     },
     "inputWidgets": {},
     "nuid": "04d48034-ecb6-4aff-89f4-7b1fa8df49be",
     "showTitle": false,
     "tableResultSettingsMap": {},
     "title": ""
    }
   },
   "source": [
    "## Exemplo de consulta"
   ]
  },
  {
   "cell_type": "code",
   "execution_count": 0,
   "metadata": {
    "application/vnd.databricks.v1+cell": {
     "cellMetadata": {
      "byteLimit": 2048000,
      "implicitDf": true,
      "rowLimit": 10000
     },
     "inputWidgets": {},
     "nuid": "7cce797b-f569-4417-874a-d4343b276f58",
     "showTitle": false,
     "tableResultSettingsMap": {},
     "title": ""
    }
   },
   "outputs": [
    {
     "output_type": "display_data",
     "data": {
      "text/html": [
       "<style scoped>\n",
       "  .table-result-container {\n",
       "    max-height: 300px;\n",
       "    overflow: auto;\n",
       "  }\n",
       "  table, th, td {\n",
       "    border: 1px solid black;\n",
       "    border-collapse: collapse;\n",
       "  }\n",
       "  th, td {\n",
       "    padding: 5px;\n",
       "  }\n",
       "  th {\n",
       "    text-align: left;\n",
       "  }\n",
       "</style><div class='table-result-container'><table class='table-result'><thead style='background-color: white'><tr><th>VendorID</th><th>tpep_pickup_datetime</th><th>tpep_dropoff_datetime</th><th>passenger_count</th><th>trip_distance</th><th>RatecodeID</th><th>store_and_fwd_flag</th><th>PULocationID</th><th>DOLocationID</th><th>payment_type</th><th>fare_amount</th><th>extra</th><th>mta_tax</th><th>tip_amount</th><th>tolls_amount</th><th>improvement_surcharge</th><th>total_amount</th><th>congestion_surcharge</th><th>airport_fee</th></tr></thead><tbody><tr><td>2</td><td>2023-01-01T00:32:10.000+0000</td><td>2023-01-01T00:40:36.000+0000</td><td>1</td><td>0.97</td><td>1.0</td><td>N</td><td>161</td><td>141</td><td>2</td><td>9.3</td><td>1.0</td><td>0.5</td><td>0.0</td><td>0.0</td><td>1.0</td><td>14.3</td><td>2.5</td><td>0.0</td></tr><tr><td>2</td><td>2023-01-01T00:55:08.000+0000</td><td>2023-01-01T01:01:27.000+0000</td><td>1</td><td>1.1</td><td>1.0</td><td>N</td><td>43</td><td>237</td><td>1</td><td>7.9</td><td>1.0</td><td>0.5</td><td>4.0</td><td>0.0</td><td>1.0</td><td>16.9</td><td>2.5</td><td>0.0</td></tr><tr><td>2</td><td>2023-01-01T00:25:04.000+0000</td><td>2023-01-01T00:37:49.000+0000</td><td>1</td><td>2.51</td><td>1.0</td><td>N</td><td>48</td><td>238</td><td>1</td><td>14.9</td><td>1.0</td><td>0.5</td><td>15.0</td><td>0.0</td><td>1.0</td><td>34.9</td><td>2.5</td><td>0.0</td></tr><tr><td>1</td><td>2023-01-01T00:03:48.000+0000</td><td>2023-01-01T00:13:25.000+0000</td><td>0</td><td>1.9</td><td>1.0</td><td>N</td><td>138</td><td>7</td><td>1</td><td>12.1</td><td>7.25</td><td>0.5</td><td>0.0</td><td>0.0</td><td>1.0</td><td>20.85</td><td>0.0</td><td>1.25</td></tr><tr><td>2</td><td>2023-01-01T00:10:29.000+0000</td><td>2023-01-01T00:21:19.000+0000</td><td>1</td><td>1.43</td><td>1.0</td><td>N</td><td>107</td><td>79</td><td>1</td><td>11.4</td><td>1.0</td><td>0.5</td><td>3.28</td><td>0.0</td><td>1.0</td><td>19.68</td><td>2.5</td><td>0.0</td></tr><tr><td>2</td><td>2023-01-01T00:50:34.000+0000</td><td>2023-01-01T01:02:52.000+0000</td><td>1</td><td>1.84</td><td>1.0</td><td>N</td><td>161</td><td>137</td><td>1</td><td>12.8</td><td>1.0</td><td>0.5</td><td>10.0</td><td>0.0</td><td>1.0</td><td>27.8</td><td>2.5</td><td>0.0</td></tr><tr><td>2</td><td>2023-01-01T00:09:22.000+0000</td><td>2023-01-01T00:19:49.000+0000</td><td>1</td><td>1.66</td><td>1.0</td><td>N</td><td>239</td><td>143</td><td>1</td><td>12.1</td><td>1.0</td><td>0.5</td><td>3.42</td><td>0.0</td><td>1.0</td><td>20.52</td><td>2.5</td><td>0.0</td></tr><tr><td>2</td><td>2023-01-01T00:27:12.000+0000</td><td>2023-01-01T00:49:56.000+0000</td><td>1</td><td>11.7</td><td>1.0</td><td>N</td><td>142</td><td>200</td><td>1</td><td>45.7</td><td>1.0</td><td>0.5</td><td>10.74</td><td>3.0</td><td>1.0</td><td>64.44</td><td>2.5</td><td>0.0</td></tr><tr><td>2</td><td>2023-01-01T00:21:44.000+0000</td><td>2023-01-01T00:36:40.000+0000</td><td>1</td><td>2.95</td><td>1.0</td><td>N</td><td>164</td><td>236</td><td>1</td><td>17.7</td><td>1.0</td><td>0.5</td><td>5.68</td><td>0.0</td><td>1.0</td><td>28.38</td><td>2.5</td><td>0.0</td></tr><tr><td>2</td><td>2023-01-01T00:39:42.000+0000</td><td>2023-01-01T00:50:36.000+0000</td><td>1</td><td>3.01</td><td>1.0</td><td>N</td><td>141</td><td>107</td><td>2</td><td>14.9</td><td>1.0</td><td>0.5</td><td>0.0</td><td>0.0</td><td>1.0</td><td>19.9</td><td>2.5</td><td>0.0</td></tr></tbody></table></div>"
      ]
     },
     "metadata": {
      "application/vnd.databricks.v1+output": {
       "addedWidgets": {},
       "aggData": [],
       "aggError": "",
       "aggOverflow": false,
       "aggSchema": [],
       "aggSeriesLimitReached": false,
       "aggType": "",
       "arguments": {},
       "columnCustomDisplayInfos": {},
       "data": [
        [
         2,
         "2023-01-01T00:32:10.000+0000",
         "2023-01-01T00:40:36.000+0000",
         1,
         0.97,
         1.0,
         "N",
         161,
         141,
         2,
         9.3,
         1.0,
         0.5,
         0.0,
         0.0,
         1.0,
         14.3,
         2.5,
         0.0
        ],
        [
         2,
         "2023-01-01T00:55:08.000+0000",
         "2023-01-01T01:01:27.000+0000",
         1,
         1.1,
         1.0,
         "N",
         43,
         237,
         1,
         7.9,
         1.0,
         0.5,
         4.0,
         0.0,
         1.0,
         16.9,
         2.5,
         0.0
        ],
        [
         2,
         "2023-01-01T00:25:04.000+0000",
         "2023-01-01T00:37:49.000+0000",
         1,
         2.51,
         1.0,
         "N",
         48,
         238,
         1,
         14.9,
         1.0,
         0.5,
         15.0,
         0.0,
         1.0,
         34.9,
         2.5,
         0.0
        ],
        [
         1,
         "2023-01-01T00:03:48.000+0000",
         "2023-01-01T00:13:25.000+0000",
         0,
         1.9,
         1.0,
         "N",
         138,
         7,
         1,
         12.1,
         7.25,
         0.5,
         0.0,
         0.0,
         1.0,
         20.85,
         0.0,
         1.25
        ],
        [
         2,
         "2023-01-01T00:10:29.000+0000",
         "2023-01-01T00:21:19.000+0000",
         1,
         1.43,
         1.0,
         "N",
         107,
         79,
         1,
         11.4,
         1.0,
         0.5,
         3.28,
         0.0,
         1.0,
         19.68,
         2.5,
         0.0
        ],
        [
         2,
         "2023-01-01T00:50:34.000+0000",
         "2023-01-01T01:02:52.000+0000",
         1,
         1.84,
         1.0,
         "N",
         161,
         137,
         1,
         12.8,
         1.0,
         0.5,
         10.0,
         0.0,
         1.0,
         27.8,
         2.5,
         0.0
        ],
        [
         2,
         "2023-01-01T00:09:22.000+0000",
         "2023-01-01T00:19:49.000+0000",
         1,
         1.66,
         1.0,
         "N",
         239,
         143,
         1,
         12.1,
         1.0,
         0.5,
         3.42,
         0.0,
         1.0,
         20.52,
         2.5,
         0.0
        ],
        [
         2,
         "2023-01-01T00:27:12.000+0000",
         "2023-01-01T00:49:56.000+0000",
         1,
         11.7,
         1.0,
         "N",
         142,
         200,
         1,
         45.7,
         1.0,
         0.5,
         10.74,
         3.0,
         1.0,
         64.44,
         2.5,
         0.0
        ],
        [
         2,
         "2023-01-01T00:21:44.000+0000",
         "2023-01-01T00:36:40.000+0000",
         1,
         2.95,
         1.0,
         "N",
         164,
         236,
         1,
         17.7,
         1.0,
         0.5,
         5.68,
         0.0,
         1.0,
         28.38,
         2.5,
         0.0
        ],
        [
         2,
         "2023-01-01T00:39:42.000+0000",
         "2023-01-01T00:50:36.000+0000",
         1,
         3.01,
         1.0,
         "N",
         141,
         107,
         2,
         14.9,
         1.0,
         0.5,
         0.0,
         0.0,
         1.0,
         19.9,
         2.5,
         0.0
        ]
       ],
       "datasetInfos": [],
       "dbfsResultPath": null,
       "isJsonSchema": true,
       "metadata": {},
       "overflow": false,
       "plotOptions": {
        "customPlotOptions": {},
        "displayType": "table",
        "pivotAggregation": null,
        "pivotColumns": null,
        "xColumns": null,
        "yColumns": null
       },
       "removedWidgets": [],
       "schema": [
        {
         "metadata": "{}",
         "name": "VendorID",
         "type": "\"long\""
        },
        {
         "metadata": "{}",
         "name": "tpep_pickup_datetime",
         "type": "\"timestamp\""
        },
        {
         "metadata": "{}",
         "name": "tpep_dropoff_datetime",
         "type": "\"timestamp\""
        },
        {
         "metadata": "{}",
         "name": "passenger_count",
         "type": "\"long\""
        },
        {
         "metadata": "{}",
         "name": "trip_distance",
         "type": "\"double\""
        },
        {
         "metadata": "{}",
         "name": "RatecodeID",
         "type": "\"double\""
        },
        {
         "metadata": "{}",
         "name": "store_and_fwd_flag",
         "type": "\"string\""
        },
        {
         "metadata": "{}",
         "name": "PULocationID",
         "type": "\"long\""
        },
        {
         "metadata": "{}",
         "name": "DOLocationID",
         "type": "\"long\""
        },
        {
         "metadata": "{}",
         "name": "payment_type",
         "type": "\"long\""
        },
        {
         "metadata": "{}",
         "name": "fare_amount",
         "type": "\"double\""
        },
        {
         "metadata": "{}",
         "name": "extra",
         "type": "\"double\""
        },
        {
         "metadata": "{}",
         "name": "mta_tax",
         "type": "\"double\""
        },
        {
         "metadata": "{}",
         "name": "tip_amount",
         "type": "\"double\""
        },
        {
         "metadata": "{}",
         "name": "tolls_amount",
         "type": "\"double\""
        },
        {
         "metadata": "{}",
         "name": "improvement_surcharge",
         "type": "\"double\""
        },
        {
         "metadata": "{}",
         "name": "total_amount",
         "type": "\"double\""
        },
        {
         "metadata": "{}",
         "name": "congestion_surcharge",
         "type": "\"double\""
        },
        {
         "metadata": "{}",
         "name": "airport_fee",
         "type": "\"double\""
        }
       ],
       "type": "table"
      }
     },
     "output_type": "display_data"
    }
   ],
   "source": [
    "%sql\n",
    "SELECT *\n",
    "FROM bronze_yellow_taxi_data\n",
    "LIMIT 10"
   ]
  }
 ],
 "metadata": {
  "application/vnd.databricks.v1+notebook": {
   "computePreferences": null,
   "dashboards": [],
   "environmentMetadata": {
    "base_environment": "",
    "environment_version": "1"
   },
   "inputWidgetPreferences": null,
   "language": "python",
   "notebookMetadata": {
    "mostRecentlyExecutedCommandWithImplicitDF": {
     "commandId": 532939436190325,
     "dataframes": [
      "_sqldf"
     ]
    },
    "pythonIndentUnit": 4
   },
   "notebookName": "02_ingestao_camada_bronze",
   "widgets": {}
  }
 },
 "nbformat": 4,
 "nbformat_minor": 0
}