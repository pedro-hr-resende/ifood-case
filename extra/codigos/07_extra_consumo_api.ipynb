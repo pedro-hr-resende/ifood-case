{
 "cells": [
  {
   "cell_type": "markdown",
   "metadata": {
    "application/vnd.databricks.v1+cell": {
     "cellMetadata": {},
     "inputWidgets": {},
     "nuid": "d1c682d0-d6a7-4b67-85b0-d8beea81c5fa",
     "showTitle": false,
     "tableResultSettingsMap": {},
     "title": ""
    }
   },
   "source": [
    "# Consumo de API"
   ]
  },
  {
   "cell_type": "markdown",
   "metadata": {
    "application/vnd.databricks.v1+cell": {
     "cellMetadata": {},
     "inputWidgets": {},
     "nuid": "ce1b67fe-441a-4962-9e57-bd61a45dc8e1",
     "showTitle": false,
     "tableResultSettingsMap": {},
     "title": ""
    }
   },
   "source": [
    "Consumir uma API é uma prática fundamental na engenharia de dados porque permite automatizar a coleta de informações de forma segura e padronizada. Com isso, é possível buscar dados atualizados com frequência — diariamente ou até em tempo real — sem depender de processos manuais. As APIs também facilitam a integração com diferentes sistemas, como plataformas de e-commerce, CRMs e bancos de dados públicos. Além disso, fornecem os dados em formatos estruturados, como JSON, que são ideais para alimentar pipelines de processamento, análises e dashboards."
   ]
  },
  {
   "cell_type": "markdown",
   "metadata": {
    "application/vnd.databricks.v1+cell": {
     "cellMetadata": {},
     "inputWidgets": {},
     "nuid": "335142d8-bccf-4d33-b94c-9f1dc6815a03",
     "showTitle": false,
     "tableResultSettingsMap": {},
     "title": ""
    }
   },
   "source": [
    "## Instalação das bibliotecas necessárias"
   ]
  },
  {
   "cell_type": "code",
   "execution_count": 0,
   "metadata": {
    "application/vnd.databricks.v1+cell": {
     "cellMetadata": {
      "byteLimit": 2048000,
      "rowLimit": 10000
     },
     "inputWidgets": {},
     "nuid": "d123ebbc-fa2f-4e51-b233-5cc01f1c628f",
     "showTitle": false,
     "tableResultSettingsMap": {},
     "title": ""
    }
   },
   "outputs": [
    {
     "output_type": "stream",
     "name": "stdout",
     "output_type": "stream",
     "text": [
      "Python interpreter will be restarted.\nRequirement already satisfied: pandas in /databricks/python3/lib/python3.9/site-packages (1.4.2)\nRequirement already satisfied: requests in /databricks/python3/lib/python3.9/site-packages (2.27.1)\nRequirement already satisfied: python-dateutil>=2.8.1 in /databricks/python3/lib/python3.9/site-packages (from pandas) (2.8.2)\nRequirement already satisfied: numpy>=1.18.5 in /databricks/python3/lib/python3.9/site-packages (from pandas) (1.21.5)\nRequirement already satisfied: pytz>=2020.1 in /databricks/python3/lib/python3.9/site-packages (from pandas) (2021.3)\nRequirement already satisfied: charset-normalizer~=2.0.0 in /databricks/python3/lib/python3.9/site-packages (from requests) (2.0.4)\nRequirement already satisfied: idna<4,>=2.5 in /databricks/python3/lib/python3.9/site-packages (from requests) (3.3)\nRequirement already satisfied: certifi>=2017.4.17 in /databricks/python3/lib/python3.9/site-packages (from requests) (2021.10.8)\nRequirement already satisfied: urllib3<1.27,>=1.21.1 in /databricks/python3/lib/python3.9/site-packages (from requests) (1.26.9)\nRequirement already satisfied: six>=1.5 in /databricks/python3/lib/python3.9/site-packages (from python-dateutil>=2.8.1->pandas) (1.16.0)\nPython interpreter will be restarted.\n"
     ]
    }
   ],
   "source": [
    "pip install pandas requests"
   ]
  },
  {
   "cell_type": "markdown",
   "metadata": {
    "application/vnd.databricks.v1+cell": {
     "cellMetadata": {},
     "inputWidgets": {},
     "nuid": "5d6f8812-abf6-48f1-be72-165ee164f949",
     "showTitle": false,
     "tableResultSettingsMap": {},
     "title": ""
    }
   },
   "source": [
    "## Reinicialização do ambiente Python"
   ]
  },
  {
   "cell_type": "code",
   "execution_count": 0,
   "metadata": {
    "application/vnd.databricks.v1+cell": {
     "cellMetadata": {
      "byteLimit": 2048000,
      "rowLimit": 10000
     },
     "inputWidgets": {},
     "nuid": "8b27f543-7421-4534-be73-0bd27fed8ac4",
     "showTitle": false,
     "tableResultSettingsMap": {},
     "title": ""
    }
   },
   "outputs": [],
   "source": [
    "dbutils.library.restartPython()"
   ]
  },
  {
   "cell_type": "markdown",
   "metadata": {
    "application/vnd.databricks.v1+cell": {
     "cellMetadata": {},
     "inputWidgets": {},
     "nuid": "242b1037-c205-4400-b7d1-5a4c96d23306",
     "showTitle": false,
     "tableResultSettingsMap": {},
     "title": ""
    }
   },
   "source": [
    "## Importação das bibliotecas"
   ]
  },
  {
   "cell_type": "code",
   "execution_count": 0,
   "metadata": {
    "application/vnd.databricks.v1+cell": {
     "cellMetadata": {
      "byteLimit": 2048000,
      "rowLimit": 10000
     },
     "inputWidgets": {},
     "nuid": "86b96708-beef-4f91-b860-c4da4c3845ea",
     "showTitle": false,
     "tableResultSettingsMap": {},
     "title": ""
    }
   },
   "outputs": [
    {
     "output_type": "display_data",
     "data": {
      "application/vnd.databricks.v1+bamboolib_hint": "{\"pd.DataFrames\": [], \"version\": \"0.0.1\"}",
      "text/plain": []
     },
     "metadata": {},
     "output_type": "display_data"
    }
   ],
   "source": [
    "import pandas as pd\n",
    "import requests"
   ]
  },
  {
   "cell_type": "markdown",
   "metadata": {
    "application/vnd.databricks.v1+cell": {
     "cellMetadata": {},
     "inputWidgets": {},
     "nuid": "3871177c-fee3-4e2e-a482-0eebfbe7630b",
     "showTitle": false,
     "tableResultSettingsMap": {},
     "title": ""
    }
   },
   "source": [
    "## Consumo da API da NYC OpenData"
   ]
  },
  {
   "cell_type": "markdown",
   "metadata": {
    "application/vnd.databricks.v1+cell": {
     "cellMetadata": {},
     "inputWidgets": {},
     "nuid": "6b37bca4-14cb-474c-b17f-cd4664daceb9",
     "showTitle": false,
     "tableResultSettingsMap": {},
     "title": ""
    }
   },
   "source": [
    "Podemos consumir a API da NYC OpenData para obter dados, por exemplo, do serviço de táxis amarelos (yellow taxi) da cidade de Nova York. Essa API disponibiliza informações públicas de forma estruturada, contendo registros de corridas com detalhes como data, horário, local de embarque e desembarque, distância percorrida e valor da tarifa."
   ]
  },
  {
   "cell_type": "code",
   "execution_count": 0,
   "metadata": {
    "application/vnd.databricks.v1+cell": {
     "cellMetadata": {
      "byteLimit": 2048000,
      "rowLimit": 10000
     },
     "inputWidgets": {},
     "nuid": "9147b6a7-3662-4f45-8278-be3ddc187cbf",
     "showTitle": false,
     "tableResultSettingsMap": {},
     "title": ""
    }
   },
   "outputs": [
    {
     "output_type": "stream",
     "name": "stdout",
     "output_type": "stream",
     "text": [
      "Out[2]: 200"
     ]
    }
   ],
   "source": [
    "endpoint = 'https://data.cityofnewyork.us/resource/4b4i-vvec.json'\n",
    "\n",
    "params = {\n",
    "    '$limit': 10\n",
    "}\n",
    "\n",
    "response = requests.get(endpoint, params=params)\n",
    "response.status_code"
   ]
  },
  {
   "cell_type": "code",
   "execution_count": 0,
   "metadata": {
    "application/vnd.databricks.v1+cell": {
     "cellMetadata": {
      "byteLimit": 2048000,
      "rowLimit": 10000
     },
     "inputWidgets": {},
     "nuid": "4252605a-0d98-4c1d-ae47-040a39ac9950",
     "showTitle": false,
     "tableResultSettingsMap": {},
     "title": ""
    }
   },
   "outputs": [
    {
     "output_type": "display_data",
     "data": {
      "text/html": [
       "<style scoped>\n",
       "  .table-result-container {\n",
       "    max-height: 300px;\n",
       "    overflow: auto;\n",
       "  }\n",
       "  table, th, td {\n",
       "    border: 1px solid black;\n",
       "    border-collapse: collapse;\n",
       "  }\n",
       "  th, td {\n",
       "    padding: 5px;\n",
       "  }\n",
       "  th {\n",
       "    text-align: left;\n",
       "  }\n",
       "</style><div class='table-result-container'><table class='table-result'><thead style='background-color: white'><tr><th>vendorid</th><th>tpep_pickup_datetime</th><th>tpep_dropoff_datetime</th><th>passenger_count</th><th>total_amount</th></tr></thead><tbody><tr><td>2</td><td>2023-01-01T00:32:10.000</td><td>2023-01-01T00:40:36.000</td><td>1.0</td><td>14.3</td></tr><tr><td>2</td><td>2023-01-01T00:55:08.000</td><td>2023-01-01T01:01:27.000</td><td>1.0</td><td>16.9</td></tr><tr><td>2</td><td>2023-01-01T00:25:04.000</td><td>2023-01-01T00:37:49.000</td><td>1.0</td><td>34.9</td></tr><tr><td>1</td><td>2023-01-01T00:03:48.000</td><td>2023-01-01T00:13:25.000</td><td>0.0</td><td>20.85</td></tr><tr><td>2</td><td>2023-01-01T00:10:29.000</td><td>2023-01-01T00:21:19.000</td><td>1.0</td><td>19.68</td></tr><tr><td>2</td><td>2023-01-01T00:50:34.000</td><td>2023-01-01T01:02:52.000</td><td>1.0</td><td>27.8</td></tr><tr><td>2</td><td>2023-01-01T00:09:22.000</td><td>2023-01-01T00:19:49.000</td><td>1.0</td><td>20.52</td></tr><tr><td>2</td><td>2023-01-01T00:27:12.000</td><td>2023-01-01T00:49:56.000</td><td>1.0</td><td>64.44</td></tr><tr><td>2</td><td>2023-01-01T00:21:44.000</td><td>2023-01-01T00:36:40.000</td><td>1.0</td><td>28.38</td></tr><tr><td>2</td><td>2023-01-01T00:39:42.000</td><td>2023-01-01T00:50:36.000</td><td>1.0</td><td>19.9</td></tr></tbody></table></div>"
      ]
     },
     "metadata": {
      "application/vnd.databricks.v1+output": {
       "addedWidgets": {},
       "aggData": [],
       "aggError": "",
       "aggOverflow": false,
       "aggSchema": [],
       "aggSeriesLimitReached": false,
       "aggType": "",
       "arguments": {},
       "columnCustomDisplayInfos": {},
       "data": [
        [
         "2",
         "2023-01-01T00:32:10.000",
         "2023-01-01T00:40:36.000",
         "1.0",
         "14.3"
        ],
        [
         "2",
         "2023-01-01T00:55:08.000",
         "2023-01-01T01:01:27.000",
         "1.0",
         "16.9"
        ],
        [
         "2",
         "2023-01-01T00:25:04.000",
         "2023-01-01T00:37:49.000",
         "1.0",
         "34.9"
        ],
        [
         "1",
         "2023-01-01T00:03:48.000",
         "2023-01-01T00:13:25.000",
         "0.0",
         "20.85"
        ],
        [
         "2",
         "2023-01-01T00:10:29.000",
         "2023-01-01T00:21:19.000",
         "1.0",
         "19.68"
        ],
        [
         "2",
         "2023-01-01T00:50:34.000",
         "2023-01-01T01:02:52.000",
         "1.0",
         "27.8"
        ],
        [
         "2",
         "2023-01-01T00:09:22.000",
         "2023-01-01T00:19:49.000",
         "1.0",
         "20.52"
        ],
        [
         "2",
         "2023-01-01T00:27:12.000",
         "2023-01-01T00:49:56.000",
         "1.0",
         "64.44"
        ],
        [
         "2",
         "2023-01-01T00:21:44.000",
         "2023-01-01T00:36:40.000",
         "1.0",
         "28.38"
        ],
        [
         "2",
         "2023-01-01T00:39:42.000",
         "2023-01-01T00:50:36.000",
         "1.0",
         "19.9"
        ]
       ],
       "datasetInfos": [],
       "dbfsResultPath": null,
       "isJsonSchema": true,
       "metadata": {},
       "overflow": false,
       "plotOptions": {
        "customPlotOptions": {},
        "displayType": "table",
        "pivotAggregation": null,
        "pivotColumns": null,
        "xColumns": null,
        "yColumns": null
       },
       "removedWidgets": [],
       "schema": [
        {
         "metadata": "{}",
         "name": "vendorid",
         "type": "\"string\""
        },
        {
         "metadata": "{}",
         "name": "tpep_pickup_datetime",
         "type": "\"string\""
        },
        {
         "metadata": "{}",
         "name": "tpep_dropoff_datetime",
         "type": "\"string\""
        },
        {
         "metadata": "{}",
         "name": "passenger_count",
         "type": "\"string\""
        },
        {
         "metadata": "{}",
         "name": "total_amount",
         "type": "\"string\""
        }
       ],
       "type": "table"
      }
     },
     "output_type": "display_data"
    }
   ],
   "source": [
    "if response.status_code == 200:\n",
    "    dados = response.json()\n",
    "else:\n",
    "    print(f\"Erro ao consumir a API: {response.status_code}\")\n",
    "    print(response.text)\n",
    "\n",
    "df = pd.DataFrame(dados)\n",
    "\n",
    "df_tratado = df[['vendorid', 'tpep_pickup_datetime', 'tpep_dropoff_datetime', 'passenger_count', 'total_amount']]\n",
    "\n",
    "df_tratado.display()"
   ]
  }
 ],
 "metadata": {
  "application/vnd.databricks.v1+notebook": {
   "computePreferences": null,
   "dashboards": [],
   "environmentMetadata": {
    "base_environment": "",
    "environment_version": "1"
   },
   "inputWidgetPreferences": null,
   "language": "python",
   "notebookMetadata": {
    "pythonIndentUnit": 4
   },
   "notebookName": "07_extra_consumo_api",
   "widgets": {}
  }
 },
 "nbformat": 4,
 "nbformat_minor": 0
}