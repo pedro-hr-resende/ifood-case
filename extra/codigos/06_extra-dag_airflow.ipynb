{
 "cells": [
  {
   "cell_type": "markdown",
   "metadata": {
    "application/vnd.databricks.v1+cell": {
     "cellMetadata": {},
     "inputWidgets": {},
     "nuid": "2a287754-084c-426b-9473-9fa7809ade5f",
     "showTitle": false,
     "tableResultSettingsMap": {},
     "title": ""
    }
   },
   "source": [
    "# DAG Airflow"
   ]
  },
  {
   "cell_type": "markdown",
   "metadata": {
    "application/vnd.databricks.v1+cell": {
     "cellMetadata": {},
     "inputWidgets": {},
     "nuid": "374bc4a6-38d0-487d-b7df-2deca3ce6e9a",
     "showTitle": false,
     "tableResultSettingsMap": {},
     "title": ""
    }
   },
   "source": [
    "Um DAG (Directed Acyclic Graph) no Airflow é uma forma de organizar e automatizar tarefas que precisam ser executadas em uma ordem específica. Ele representa um fluxo de trabalho, onde cada etapa é uma tarefa (task) e as conexões entre elas definem a sequência de execução."
   ]
  },
  {
   "cell_type": "markdown",
   "metadata": {
    "application/vnd.databricks.v1+cell": {
     "cellMetadata": {},
     "inputWidgets": {},
     "nuid": "9f8435c7-9ff3-4965-88f0-2689ea2aafd2",
     "showTitle": false,
     "tableResultSettingsMap": {},
     "title": ""
    }
   },
   "source": [
    "## Instalação das bibliotecas necessárias"
   ]
  },
  {
   "cell_type": "code",
   "execution_count": 0,
   "metadata": {
    "application/vnd.databricks.v1+cell": {
     "cellMetadata": {},
     "inputWidgets": {},
     "nuid": "a21f4c24-96fb-4534-af97-30d6a8d91ca6",
     "showTitle": false,
     "tableResultSettingsMap": {},
     "title": ""
    }
   },
   "outputs": [],
   "source": [
    "pip install apache-airflow-providers-databricks"
   ]
  },
  {
   "cell_type": "markdown",
   "metadata": {
    "application/vnd.databricks.v1+cell": {
     "cellMetadata": {},
     "inputWidgets": {},
     "nuid": "d57430c1-715a-4b0d-9203-829b53660b14",
     "showTitle": false,
     "tableResultSettingsMap": {},
     "title": ""
    }
   },
   "source": [
    "## Importação das bibliotecas"
   ]
  },
  {
   "cell_type": "code",
   "execution_count": 0,
   "metadata": {
    "application/vnd.databricks.v1+cell": {
     "cellMetadata": {},
     "inputWidgets": {},
     "nuid": "769d1de8-ee3a-4943-bbbf-d3d5ff436157",
     "showTitle": false,
     "tableResultSettingsMap": {},
     "title": ""
    }
   },
   "outputs": [],
   "source": [
    "from airflow import DAG\n",
    "from airflow.providers.databricks.operators.databricks import DatabricksRunNowOperator\n",
    "from datetime import datetime"
   ]
  },
  {
   "cell_type": "markdown",
   "metadata": {
    "application/vnd.databricks.v1+cell": {
     "cellMetadata": {},
     "inputWidgets": {},
     "nuid": "73471251-c8f0-45a9-921b-ece816a6d037",
     "showTitle": false,
     "tableResultSettingsMap": {},
     "title": ""
    }
   },
   "source": [
    "## Exemplo de DAG para orquestrar os notebooks"
   ]
  },
  {
   "cell_type": "code",
   "execution_count": 0,
   "metadata": {
    "application/vnd.databricks.v1+cell": {
     "cellMetadata": {},
     "inputWidgets": {},
     "nuid": "75d0b0c7-62b6-4e02-b82a-e5d31bc84425",
     "showTitle": false,
     "tableResultSettingsMap": {},
     "title": ""
    }
   },
   "outputs": [],
   "source": [
    "default_args = {\n",
    "    'owner': 'pedro',\n",
    "    'start_date': datetime(2025, 7, 1),\n",
    "    'depends_on_past': False\n",
    "}\n",
    "\n",
    "with DAG(\n",
    "    dag_id='orquestracao_case_ifood',\n",
    "    default_args=default_args,\n",
    "    schedule_interval=@monthly,\n",
    "    catchup=False,\n",
    "    description='Executa os notebooks do case técnico do iFood em sequência',\n",
    "    tags=['databricks', 'ifood', 'engenharia_de_dados']\n",
    ") as dag:\n",
    "\n",
    "    notebook_path_base = \"/Notebook/\"\n",
    "\n",
    "    task_01 = DatabricksRunNowOperator(\n",
    "        task_id='01_ingestao_dados_brutos',\n",
    "        databricks_conn_id='databricks_default',\n",
    "        notebook_params={},\n",
    "        existing_cluster_id='CLUSTER_ID_AQUI',\n",
    "        notebook_path=notebook_path_base + \"01_ingestao_dados_brutos\"\n",
    "    )\n",
    "\n",
    "    task_02 = DatabricksRunNowOperator(\n",
    "        task_id='02_ingestao_camada_bronze',\n",
    "        databricks_conn_id='databricks_default',\n",
    "        notebook_params={},\n",
    "        existing_cluster_id='CLUSTER_ID_AQUI',\n",
    "        notebook_path=notebook_path_base + \"02_ingestao_camada_bronze\"\n",
    "    )\n",
    "\n",
    "    task_03 = DatabricksRunNowOperator(\n",
    "        task_id='03_ingestao_camada_silver',\n",
    "        databricks_conn_id='databricks_default',\n",
    "        notebook_params={},\n",
    "        existing_cluster_id='CLUSTER_ID_AQUI',\n",
    "        notebook_path=notebook_path_base + \"03_ingestao_camada_silver\"\n",
    "    )\n",
    "\n",
    "    task_04 = DatabricksRunNowOperator(\n",
    "        task_id='04_ingestao_camada_gold',\n",
    "        databricks_conn_id='databricks_default',\n",
    "        notebook_params={},\n",
    "        existing_cluster_id='CLUSTER_ID_AQUI',\n",
    "        notebook_path=notebook_path_base + \"04_ingestao_camada_gold\"\n",
    "    )\n",
    "   \n",
    "    task_01 >> task_02 >> task_03 >> task_04"
   ]
  },
  {
   "cell_type": "markdown",
   "metadata": {
    "application/vnd.databricks.v1+cell": {
     "cellMetadata": {},
     "inputWidgets": {},
     "nuid": "0cc9558d-3dac-42d3-8f32-0dede944b6fe",
     "showTitle": false,
     "tableResultSettingsMap": {},
     "title": ""
    }
   },
   "source": [
    "**Observação:** Esse código deve não fica no Databricks (este notebook é só um exemplo). Ele deve ser colocado dentro da pasta de DAGs do Airflow e ele é conectado ao Databricks por meio de uma conexão configurada na própria ferramenta."
   ]
  }
 ],
 "metadata": {
  "application/vnd.databricks.v1+notebook": {
   "computePreferences": null,
   "dashboards": [],
   "environmentMetadata": {
    "base_environment": "",
    "environment_version": "1"
   },
   "inputWidgetPreferences": null,
   "language": "python",
   "notebookMetadata": {
    "pythonIndentUnit": 4
   },
   "notebookName": "06_extra-dag_airflow",
   "widgets": {}
  }
 },
 "nbformat": 4,
 "nbformat_minor": 0
}